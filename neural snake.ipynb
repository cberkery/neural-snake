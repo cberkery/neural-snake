{
 "cells": [
  {
   "cell_type": "code",
   "execution_count": 6,
   "id": "f847f424",
   "metadata": {},
   "outputs": [],
   "source": [
    "import numpy as np\n",
    "from numba import jit"
   ]
  },
  {
   "cell_type": "code",
   "execution_count": 2,
   "id": "e6a485b3",
   "metadata": {},
   "outputs": [],
   "source": [
    "x,y = 3,4 #7"
   ]
  },
  {
   "cell_type": "code",
   "execution_count": 4,
   "id": "8aad3d09",
   "metadata": {},
   "outputs": [
    {
     "data": {
      "text/plain": [
       "{-1, 0, 1}"
      ]
     },
     "execution_count": 4,
     "metadata": {},
     "output_type": "execute_result"
    }
   ],
   "source": [
    "set([-1, 0, 1])"
   ]
  },
  {
   "cell_type": "code",
   "execution_count": null,
   "id": "310b13b5",
   "metadata": {},
   "outputs": [],
   "source": [
    "def permute_direction(x_dir, y_dir):\n",
    "    possible_vals = [-1, 0, 1]\n",
    "    right = [1, 0]\n",
    "    left = [-1, 0]\n",
    "    up = [0, 1]\n",
    "    down = [0, -1]\n",
    "    "
   ]
  },
  {
   "cell_type": "code",
   "execution_count": 22,
   "id": "3dc010b8",
   "metadata": {},
   "outputs": [],
   "source": [
    "right = np.array([1, 0])"
   ]
  },
  {
   "cell_type": "code",
   "execution_count": 40,
   "id": "065a4465",
   "metadata": {},
   "outputs": [],
   "source": [
    "\n",
    "current_xy = np.array([10,10])\n",
    "#Going right\n",
    "current_direction = np.array([1,0])"
   ]
  },
  {
   "cell_type": "code",
   "execution_count": null,
   "id": "4dcd2387",
   "metadata": {},
   "outputs": [],
   "source": []
  },
  {
   "cell_type": "code",
   "execution_count": 42,
   "id": "8bc6f645",
   "metadata": {},
   "outputs": [],
   "source": [
    "#Turn right relative to current position\n",
    "new_direction = np.dot(current_direction, right_rotation)"
   ]
  },
  {
   "cell_type": "code",
   "execution_count": 43,
   "id": "dce29d89",
   "metadata": {},
   "outputs": [
    {
     "data": {
      "text/plain": [
       "array([ 0, -1])"
      ]
     },
     "execution_count": 43,
     "metadata": {},
     "output_type": "execute_result"
    }
   ],
   "source": [
    "new_direction"
   ]
  },
  {
   "cell_type": "code",
   "execution_count": 44,
   "id": "99aab722",
   "metadata": {},
   "outputs": [
    {
     "data": {
      "text/plain": [
       "array([10,  9])"
      ]
     },
     "execution_count": 44,
     "metadata": {},
     "output_type": "execute_result"
    }
   ],
   "source": [
    "current_xy + new_direction"
   ]
  },
  {
   "cell_type": "code",
   "execution_count": 25,
   "id": "171854f8",
   "metadata": {},
   "outputs": [
    {
     "data": {
      "text/plain": [
       "array([0, 1])"
      ]
     },
     "execution_count": 25,
     "metadata": {},
     "output_type": "execute_result"
    }
   ],
   "source": [
    "np.dot(right, right_rotation)"
   ]
  },
  {
   "cell_type": "code",
   "execution_count": 49,
   "id": "20abc601",
   "metadata": {},
   "outputs": [],
   "source": [
    "current_direction = np.array([1,0])"
   ]
  },
  {
   "cell_type": "code",
   "execution_count": 54,
   "id": "19f1b631",
   "metadata": {},
   "outputs": [],
   "source": [
    "test_bnd = lambda x: True if x >= 200 or x <= 0 else False"
   ]
  },
  {
   "cell_type": "code",
   "execution_count": 85,
   "id": "403c3a3e",
   "metadata": {},
   "outputs": [],
   "source": [
    "loc = np.array([190, 190])"
   ]
  },
  {
   "cell_type": "code",
   "execution_count": 86,
   "id": "ff9538d6",
   "metadata": {},
   "outputs": [],
   "source": [
    "#test_x = [loc + current_direction, loc + np.dot(current_direction, left_rotation), np.dot(current_direction, right_rotation)]"
   ]
  },
  {
   "cell_type": "code",
   "execution_count": 87,
   "id": "bd9891b9",
   "metadata": {},
   "outputs": [],
   "source": [
    "test_x = np.array([(loc + current_direction)[0], (loc + np.dot(current_direction, left_rotation))[0], (loc + np.dot(current_direction, right_rotation))[0]])"
   ]
  },
  {
   "cell_type": "code",
   "execution_count": 88,
   "id": "3df48f76",
   "metadata": {},
   "outputs": [],
   "source": [
    "test_y = np.array([(loc + current_direction)[1], (loc + np.dot(current_direction, left_rotation))[1], (loc + np.dot(current_direction, right_rotation))[1]])"
   ]
  },
  {
   "cell_type": "code",
   "execution_count": 89,
   "id": "2b621021",
   "metadata": {},
   "outputs": [
    {
     "data": {
      "text/plain": [
       "array([191, 190, 190])"
      ]
     },
     "execution_count": 89,
     "metadata": {},
     "output_type": "execute_result"
    }
   ],
   "source": [
    "test_x"
   ]
  },
  {
   "cell_type": "code",
   "execution_count": 93,
   "id": "359befb2",
   "metadata": {},
   "outputs": [
    {
     "data": {
      "text/plain": [
       "array([], dtype=int64)"
      ]
     },
     "execution_count": 93,
     "metadata": {},
     "output_type": "execute_result"
    }
   ],
   "source": [
    "np.where(np.array(list(map(test_bnd, test_x)))==True)[0]"
   ]
  },
  {
   "cell_type": "code",
   "execution_count": 95,
   "id": "1f29ddf8",
   "metadata": {},
   "outputs": [
    {
     "data": {
      "text/plain": [
       "2"
      ]
     },
     "execution_count": 95,
     "metadata": {},
     "output_type": "execute_result"
    }
   ],
   "source": [
    "np.random.choice([0,1,2])"
   ]
  },
  {
   "cell_type": "code",
   "execution_count": 94,
   "id": "4d353cdd",
   "metadata": {},
   "outputs": [
    {
     "data": {
      "text/plain": [
       "0"
      ]
     },
     "execution_count": 94,
     "metadata": {},
     "output_type": "execute_result"
    }
   ],
   "source": [
    "len(np.where(np.array(list(map(test_bnd, test_x)))==True)[0])"
   ]
  },
  {
   "cell_type": "code",
   "execution_count": 96,
   "id": "67612d3e",
   "metadata": {},
   "outputs": [],
   "source": [
    "direction = np.array([1, 0])"
   ]
  },
  {
   "cell_type": "code",
   "execution_count": 102,
   "id": "1f00f81a",
   "metadata": {},
   "outputs": [
    {
     "data": {
      "text/plain": [
       "array([[ 0, -1],\n",
       "       [ 1,  0]])"
      ]
     },
     "execution_count": 102,
     "metadata": {},
     "output_type": "execute_result"
    }
   ],
   "source": [
    "np.vstack((np.array([0, -1]), direction))"
   ]
  },
  {
   "cell_type": "code",
   "execution_count": 107,
   "id": "fd0d0131",
   "metadata": {},
   "outputs": [],
   "source": [
    "arr = np.array([[1,0],\n",
    "              [1,0],\n",
    "              [1,0],\n",
    "              [1,0],\n",
    "              [1,0],\n",
    "               [1,0],\n",
    "               [1,0],\n",
    "               [1,0]])"
   ]
  },
  {
   "cell_type": "code",
   "execution_count": 108,
   "id": "5d35124d",
   "metadata": {},
   "outputs": [
    {
     "data": {
      "text/plain": [
       "array([[1, 0],\n",
       "       [1, 0],\n",
       "       [1, 0],\n",
       "       [1, 0]])"
      ]
     },
     "execution_count": 108,
     "metadata": {},
     "output_type": "execute_result"
    }
   ],
   "source": [
    "arr[:-4]"
   ]
  },
  {
   "cell_type": "code",
   "execution_count": 109,
   "id": "7c201531",
   "metadata": {},
   "outputs": [],
   "source": [
    "moves = [0, 0, 0, 0]"
   ]
  },
  {
   "cell_type": "code",
   "execution_count": 110,
   "id": "6f2c54ff",
   "metadata": {},
   "outputs": [],
   "source": [
    "move = 0"
   ]
  },
  {
   "cell_type": "code",
   "execution_count": 113,
   "id": "653b65e0",
   "metadata": {},
   "outputs": [
    {
     "data": {
      "text/plain": [
       "array([ True,  True,  True,  True])"
      ]
     },
     "execution_count": 113,
     "metadata": {},
     "output_type": "execute_result"
    }
   ],
   "source": [
    "np.array(moves) == move"
   ]
  },
  {
   "cell_type": "code",
   "execution_count": 111,
   "id": "3f623feb",
   "metadata": {},
   "outputs": [
    {
     "data": {
      "text/plain": [
       "False"
      ]
     },
     "execution_count": 111,
     "metadata": {},
     "output_type": "execute_result"
    }
   ],
   "source": [
    "np.all(moves == move)"
   ]
  },
  {
   "cell_type": "code",
   "execution_count": null,
   "id": "db9ca2ee",
   "metadata": {},
   "outputs": [],
   "source": [
    "self.moves[-self.max_move_cycle :]\n",
    "[0, 0, 0, 0]\n",
    "np.all(self.moves[-self.max_move_cycle :] == self.move)"
   ]
  },
  {
   "cell_type": "code",
   "execution_count": null,
   "id": "de8649b6",
   "metadata": {},
   "outputs": [],
   "source": []
  },
  {
   "cell_type": "code",
   "execution_count": 106,
   "id": "1493b97b",
   "metadata": {},
   "outputs": [
    {
     "data": {
      "text/plain": [
       "True"
      ]
     },
     "execution_count": 106,
     "metadata": {},
     "output_type": "execute_result"
    }
   ],
   "source": [
    "np.all(arr == arr[0])"
   ]
  },
  {
   "cell_type": "code",
   "execution_count": 61,
   "id": "a588f07a",
   "metadata": {},
   "outputs": [
    {
     "ename": "AttributeError",
     "evalue": "'list' object has no attribute 'sum'",
     "output_type": "error",
     "traceback": [
      "\u001b[0;31m---------------------------------------------------------------------------\u001b[0m",
      "\u001b[0;31mAttributeError\u001b[0m                            Traceback (most recent call last)",
      "Cell \u001b[0;32mIn[61], line 1\u001b[0m\n\u001b[0;32m----> 1\u001b[0m \u001b[38;5;28;43mlist\u001b[39;49m\u001b[43m(\u001b[49m\u001b[38;5;28;43mmap\u001b[39;49m\u001b[43m(\u001b[49m\u001b[43mtest_bnd\u001b[49m\u001b[43m,\u001b[49m\u001b[43m \u001b[49m\u001b[43m[\u001b[49m\u001b[43m(\u001b[49m\u001b[43mloc\u001b[49m\u001b[43m \u001b[49m\u001b[38;5;241;43m+\u001b[39;49m\u001b[43m \u001b[49m\u001b[43mcurrent_direction\u001b[49m\u001b[43m)\u001b[49m\u001b[43m[\u001b[49m\u001b[38;5;241;43m0\u001b[39;49m\u001b[43m]\u001b[49m\u001b[43m,\u001b[49m\u001b[43m \u001b[49m\u001b[43m(\u001b[49m\u001b[43mloc\u001b[49m\u001b[43m \u001b[49m\u001b[38;5;241;43m+\u001b[39;49m\u001b[43m \u001b[49m\u001b[43mnp\u001b[49m\u001b[38;5;241;43m.\u001b[39;49m\u001b[43mdot\u001b[49m\u001b[43m(\u001b[49m\u001b[43mcurrent_direction\u001b[49m\u001b[43m,\u001b[49m\u001b[43m \u001b[49m\u001b[43mleft_rotation\u001b[49m\u001b[43m)\u001b[49m\u001b[43m)\u001b[49m\u001b[43m[\u001b[49m\u001b[38;5;241;43m0\u001b[39;49m\u001b[43m]\u001b[49m\u001b[43m,\u001b[49m\u001b[43m \u001b[49m\u001b[43m(\u001b[49m\u001b[43mloc\u001b[49m\u001b[43m \u001b[49m\u001b[38;5;241;43m+\u001b[39;49m\u001b[43m \u001b[49m\u001b[43mnp\u001b[49m\u001b[38;5;241;43m.\u001b[39;49m\u001b[43mdot\u001b[49m\u001b[43m(\u001b[49m\u001b[43mcurrent_direction\u001b[49m\u001b[43m,\u001b[49m\u001b[43m \u001b[49m\u001b[43mright_rotation\u001b[49m\u001b[43m)\u001b[49m\u001b[43m)\u001b[49m\u001b[43m[\u001b[49m\u001b[38;5;241;43m0\u001b[39;49m\u001b[43m]\u001b[49m\u001b[43m]\u001b[49m\u001b[43m)\u001b[49m\u001b[43m)\u001b[49m\u001b[38;5;241;43m.\u001b[39;49m\u001b[43msum\u001b[49m()\n",
      "\u001b[0;31mAttributeError\u001b[0m: 'list' object has no attribute 'sum'"
     ]
    }
   ],
   "source": [
    "list(map(test_bnd, [(loc + current_direction)[0], (loc + np.dot(current_direction, left_rotation))[0], (loc + np.dot(current_direction, right_rotation))[0]])).sum()\n",
    "\n"
   ]
  },
  {
   "cell_type": "code",
   "execution_count": 13,
   "id": "a1ebffaf",
   "metadata": {},
   "outputs": [
    {
     "data": {
      "text/plain": [
       "array([0, 1])"
      ]
     },
     "execution_count": 13,
     "metadata": {},
     "output_type": "execute_result"
    }
   ],
   "source": [
    "np.dot(right, left_rotation)"
   ]
  },
  {
   "cell_type": "code",
   "execution_count": 30,
   "id": "8aa5c3b0",
   "metadata": {},
   "outputs": [],
   "source": [
    "# Rotation matrices\n",
    "right_rotation = np.array([[0, -1],\n",
    "                          [1, 0]])\n",
    "\n",
    "left_rotation = np.array([[0, 1],\n",
    "                          [-1, 0]])"
   ]
  },
  {
   "cell_type": "code",
   "execution_count": 36,
   "id": "9380ee9d",
   "metadata": {},
   "outputs": [
    {
     "data": {
      "text/plain": [
       "array([0, 1])"
      ]
     },
     "execution_count": 36,
     "metadata": {},
     "output_type": "execute_result"
    }
   ],
   "source": [
    "right = [1, 0]\n",
    "np.dot(right, left_rotation)"
   ]
  },
  {
   "cell_type": "code",
   "execution_count": 37,
   "id": "0e487937",
   "metadata": {},
   "outputs": [
    {
     "data": {
      "text/plain": [
       "array([ 0, -1])"
      ]
     },
     "execution_count": 37,
     "metadata": {},
     "output_type": "execute_result"
    }
   ],
   "source": [
    "\n",
    "left = [-1, 0]\n",
    "np.dot(left, left_rotation)"
   ]
  },
  {
   "cell_type": "code",
   "execution_count": 38,
   "id": "eef1bf8a",
   "metadata": {},
   "outputs": [
    {
     "data": {
      "text/plain": [
       "array([-1,  0])"
      ]
     },
     "execution_count": 38,
     "metadata": {},
     "output_type": "execute_result"
    }
   ],
   "source": [
    "\n",
    "up = [0, 1]\n",
    "np.dot(up, left_rotation)"
   ]
  },
  {
   "cell_type": "code",
   "execution_count": 39,
   "id": "7953af20",
   "metadata": {},
   "outputs": [
    {
     "data": {
      "text/plain": [
       "array([1, 0])"
      ]
     },
     "execution_count": 39,
     "metadata": {},
     "output_type": "execute_result"
    }
   ],
   "source": [
    "down = [0, -1]\n",
    "np.dot(down, left_rotation)"
   ]
  },
  {
   "cell_type": "markdown",
   "id": "d702db44",
   "metadata": {},
   "source": [
    "# Test random matrix"
   ]
  },
  {
   "cell_type": "code",
   "execution_count": 3,
   "id": "766038ec",
   "metadata": {},
   "outputs": [],
   "source": [
    "n=10"
   ]
  },
  {
   "cell_type": "code",
   "execution_count": 4,
   "id": "dd30e0bd",
   "metadata": {},
   "outputs": [],
   "source": [
    "matrix_rand = np.random.rand(n,n)"
   ]
  },
  {
   "cell_type": "code",
   "execution_count": 5,
   "id": "a7b4f3b2",
   "metadata": {},
   "outputs": [
    {
     "data": {
      "text/plain": [
       "[array([0.73949928, 0.7761568 , 0.53855704, 0.98704679, 0.15105303,\n",
       "        0.19355321, 0.85258281, 0.6224974 , 0.8209335 , 0.14091173]),\n",
       " array([0.45590283, 0.37803884, 0.60559055, 0.88739122, 0.64245605,\n",
       "        0.44304661, 0.86261352, 0.77553772, 0.79621903, 0.24326363]),\n",
       " array([0.52658226, 0.3852589 , 0.46156148, 0.8771417 , 0.35476433,\n",
       "        0.41424606, 0.01845606, 0.10406684, 0.02944982, 0.42204194]),\n",
       " array([0.48442639, 0.78314653, 0.53005786, 0.97034377, 0.09023765,\n",
       "        0.19973389, 0.45310117, 0.49759564, 0.05455826, 0.44291413]),\n",
       " array([0.9702936 , 0.44423612, 0.9628019 , 0.30719199, 0.72105593,\n",
       "        0.29998196, 0.77450322, 0.05666119, 0.50482556, 0.563932  ]),\n",
       " array([0.21431241, 0.72765823, 0.86670693, 0.10366644, 0.29301223,\n",
       "        0.88638468, 0.98060675, 0.51103024, 0.2116389 , 0.34644924]),\n",
       " array([0.27295625, 0.38791766, 0.35630226, 0.38619081, 0.53310435,\n",
       "        0.43829902, 0.67339906, 0.66933683, 0.02358472, 0.61707496]),\n",
       " array([0.02801082, 0.41010303, 0.32823918, 0.54091508, 0.50645459,\n",
       "        0.0091031 , 0.75917694, 0.30047562, 0.71542066, 0.1080525 ]),\n",
       " array([0.85762097, 0.96949574, 0.20235143, 0.67867713, 0.09749381,\n",
       "        0.88229965, 0.45645254, 0.28191884, 0.82293662, 0.16438899]),\n",
       " array([0.64328053, 0.92884064, 0.77604558, 0.74975382, 0.49819817,\n",
       "        0.48516953, 0.92616991, 0.01264035, 0.77065863, 0.62180165])]"
      ]
     },
     "execution_count": 5,
     "metadata": {},
     "output_type": "execute_result"
    }
   ],
   "source": [
    "list(matrix_rand)"
   ]
  },
  {
   "cell_type": "code",
   "execution_count": 6,
   "id": "d2ab578e",
   "metadata": {},
   "outputs": [
    {
     "name": "stdout",
     "output_type": "stream",
     "text": [
      "243 ns ± 12.5 ns per loop (mean ± std. dev. of 7 runs, 1,000,000 loops each)\n"
     ]
    }
   ],
   "source": [
    "%timeit matrix_rand[x][y]"
   ]
  },
  {
   "cell_type": "code",
   "execution_count": 10,
   "id": "e6ba8b77",
   "metadata": {},
   "outputs": [],
   "source": [
    "def convert(x,y, n):\n",
    "    return y + n*x"
   ]
  },
  {
   "cell_type": "code",
   "execution_count": 11,
   "id": "0b327d17",
   "metadata": {},
   "outputs": [
    {
     "name": "stdout",
     "output_type": "stream",
     "text": [
      "1.03 µs ± 45.2 ns per loop (mean ± std. dev. of 7 runs, 1,000,000 loops each)\n"
     ]
    }
   ],
   "source": [
    "%timeit matrix_rand.flatten()[convert(x,y,n)]"
   ]
  },
  {
   "cell_type": "code",
   "execution_count": 12,
   "id": "6dbb3227",
   "metadata": {},
   "outputs": [
    {
     "data": {
      "text/plain": [
       "0.09023765402648076"
      ]
     },
     "execution_count": 12,
     "metadata": {},
     "output_type": "execute_result"
    }
   ],
   "source": [
    "matrix_rand.flatten()[convert(x,y,n)]"
   ]
  },
  {
   "cell_type": "code",
   "execution_count": 14,
   "id": "031ebd68",
   "metadata": {},
   "outputs": [],
   "source": [
    "@jit\n",
    "def convert2(array):\n",
    "    return array[1] + array[0]*array[2]"
   ]
  },
  {
   "cell_type": "code",
   "execution_count": 15,
   "id": "e1d9267e",
   "metadata": {},
   "outputs": [],
   "source": [
    "@jit\n",
    "def jit_convert2(array):\n",
    "    return array[1] + array[0]*array[2]"
   ]
  },
  {
   "cell_type": "code",
   "execution_count": 16,
   "id": "3d7fd688",
   "metadata": {},
   "outputs": [],
   "source": [
    "@jit\n",
    "def get_snake(n):\n",
    "    return np.random.randint(0,n, size=(n,2))\n",
    "    "
   ]
  },
  {
   "cell_type": "code",
   "execution_count": 17,
   "id": "fc462dfc",
   "metadata": {},
   "outputs": [],
   "source": [
    "@jit\n",
    "def gen_snake(n):\n",
    "    return np.concatenate((get_snake(n), np.ones((n,1))), axis=1)"
   ]
  },
  {
   "cell_type": "code",
   "execution_count": 18,
   "id": "1c046fe1",
   "metadata": {},
   "outputs": [
    {
     "data": {
      "text/plain": [
       "array([[1.],\n",
       "       [1.],\n",
       "       [1.],\n",
       "       [1.],\n",
       "       [1.],\n",
       "       [1.],\n",
       "       [1.],\n",
       "       [1.],\n",
       "       [1.],\n",
       "       [1.],\n",
       "       [1.],\n",
       "       [1.],\n",
       "       [1.],\n",
       "       [1.],\n",
       "       [1.],\n",
       "       [1.],\n",
       "       [1.],\n",
       "       [1.],\n",
       "       [1.],\n",
       "       [1.]])"
      ]
     },
     "execution_count": 18,
     "metadata": {},
     "output_type": "execute_result"
    }
   ],
   "source": [
    "np.ones((20,1))"
   ]
  },
  {
   "cell_type": "code",
   "execution_count": 19,
   "id": "3e939aaf",
   "metadata": {},
   "outputs": [],
   "source": [
    "tst = get_snake(n)"
   ]
  },
  {
   "cell_type": "code",
   "execution_count": 31,
   "id": "3a80eca4",
   "metadata": {},
   "outputs": [
    {
     "data": {
      "text/plain": [
       "array([[0.73949928, 0.7761568 , 0.53855704, 0.98704679, 0.15105303,\n",
       "        0.19355321, 0.85258281, 0.6224974 , 0.8209335 , 0.14091173],\n",
       "       [0.45590283, 0.37803884, 0.60559055, 0.88739122, 0.64245605,\n",
       "        0.44304661, 0.86261352, 0.77553772, 0.79621903, 0.24326363],\n",
       "       [0.52658226, 0.3852589 , 0.46156148, 0.8771417 , 0.35476433,\n",
       "        0.41424606, 0.01845606, 0.10406684, 0.02944982, 0.42204194],\n",
       "       [0.48442639, 0.78314653, 0.53005786, 0.97034377, 0.09023765,\n",
       "        0.19973389, 0.45310117, 0.49759564, 0.05455826, 0.44291413],\n",
       "       [0.9702936 , 0.44423612, 0.9628019 , 0.30719199, 0.72105593,\n",
       "        0.29998196, 0.77450322, 0.05666119, 0.50482556, 0.563932  ],\n",
       "       [0.21431241, 0.72765823, 0.86670693, 0.10366644, 0.29301223,\n",
       "        0.88638468, 0.98060675, 0.51103024, 0.2116389 , 0.34644924],\n",
       "       [0.27295625, 0.38791766, 0.35630226, 0.38619081, 0.53310435,\n",
       "        0.43829902, 0.67339906, 0.66933683, 0.02358472, 0.61707496],\n",
       "       [0.02801082, 0.41010303, 0.32823918, 0.54091508, 0.50645459,\n",
       "        0.0091031 , 0.75917694, 0.30047562, 0.71542066, 0.1080525 ],\n",
       "       [0.85762097, 0.96949574, 0.20235143, 0.67867713, 0.09749381,\n",
       "        0.88229965, 0.45645254, 0.28191884, 0.82293662, 0.16438899],\n",
       "       [0.64328053, 0.92884064, 0.77604558, 0.74975382, 0.49819817,\n",
       "        0.48516953, 0.92616991, 0.01264035, 0.77065863, 0.62180165]])"
      ]
     },
     "execution_count": 31,
     "metadata": {},
     "output_type": "execute_result"
    }
   ],
   "source": [
    "matrix_rand"
   ]
  },
  {
   "cell_type": "code",
   "execution_count": 33,
   "id": "1e00de71",
   "metadata": {},
   "outputs": [
    {
     "data": {
      "text/plain": [
       "array([[1, 3],\n",
       "       [9, 0],\n",
       "       [0, 8],\n",
       "       [4, 7],\n",
       "       [8, 1],\n",
       "       [4, 4],\n",
       "       [4, 3],\n",
       "       [9, 9],\n",
       "       [5, 8],\n",
       "       [2, 9]])"
      ]
     },
     "execution_count": 33,
     "metadata": {},
     "output_type": "execute_result"
    }
   ],
   "source": [
    "tst"
   ]
  },
  {
   "cell_type": "code",
   "execution_count": 32,
   "id": "d6d80736",
   "metadata": {},
   "outputs": [
    {
     "data": {
      "text/plain": [
       "[0.8873912219578296,\n",
       " 0.6432805330282821,\n",
       " 0.8209335016828243,\n",
       " 0.05666118536720577,\n",
       " 0.9694957367307986,\n",
       " 0.7210559338601952,\n",
       " 0.30719198805596093,\n",
       " 0.6218016534633505,\n",
       " 0.21163889546418757,\n",
       " 0.42204193528827194]"
      ]
     },
     "execution_count": 32,
     "metadata": {},
     "output_type": "execute_result"
    }
   ],
   "source": [
    "[matrix_rand[tst[i][0]][tst[i][1]] for i in range(len(tst))]"
   ]
  },
  {
   "cell_type": "code",
   "execution_count": 38,
   "id": "f6ed5b41",
   "metadata": {},
   "outputs": [
    {
     "data": {
      "text/plain": [
       "array([[5, 0],\n",
       "       [1, 4],\n",
       "       [0, 9],\n",
       "       [2, 1],\n",
       "       [6, 5],\n",
       "       [0, 7],\n",
       "       [4, 3],\n",
       "       [5, 7],\n",
       "       [6, 3],\n",
       "       [4, 6],\n",
       "       [1, 2]])"
      ]
     },
     "execution_count": 38,
     "metadata": {},
     "output_type": "execute_result"
    }
   ],
   "source": [
    "np.vstack((tst, np.array([1,2])))"
   ]
  },
  {
   "cell_type": "code",
   "execution_count": 30,
   "id": "5eb568ca",
   "metadata": {},
   "outputs": [
    {
     "data": {
      "text/plain": [
       "array([[1., 3., 1.],\n",
       "       [9., 0., 1.],\n",
       "       [0., 8., 1.],\n",
       "       [4., 7., 1.],\n",
       "       [8., 1., 1.],\n",
       "       [4., 4., 1.],\n",
       "       [4., 3., 1.],\n",
       "       [9., 9., 1.],\n",
       "       [5., 8., 1.],\n",
       "       [2., 9., 1.]])"
      ]
     },
     "execution_count": 30,
     "metadata": {},
     "output_type": "execute_result"
    }
   ],
   "source": [
    "np.concatenate((tst, np.ones((len(tst),1))), axis=1)"
   ]
  },
  {
   "cell_type": "code",
   "execution_count": 29,
   "id": "d1dbc45b",
   "metadata": {},
   "outputs": [
    {
     "data": {
      "text/plain": [
       "array([ 4.,  9.,  8., 11.,  9.,  8.,  7., 18., 13., 11.])"
      ]
     },
     "execution_count": 29,
     "metadata": {},
     "output_type": "execute_result"
    }
   ],
   "source": [
    "convert2(np.concatenate((tst, np.ones((len(tst),1))), axis=1).T)"
   ]
  },
  {
   "cell_type": "code",
   "execution_count": 17,
   "id": "296ba30a",
   "metadata": {},
   "outputs": [],
   "source": [
    "@jit\n",
    "def jit_gen_snake(n):\n",
    "    return np.concatenate((get_snake(n), np.ones((n,1))), axis=1)"
   ]
  },
  {
   "cell_type": "code",
   "execution_count": 22,
   "id": "ec2e93e8",
   "metadata": {},
   "outputs": [
    {
     "name": "stdout",
     "output_type": "stream",
     "text": [
      "1.86 µs ± 145 ns per loop (mean ± std. dev. of 7 runs, 100,000 loops each)\n"
     ]
    }
   ],
   "source": [
    "%timeit gen_snake(n)"
   ]
  },
  {
   "cell_type": "code",
   "execution_count": 24,
   "id": "141bf999",
   "metadata": {},
   "outputs": [
    {
     "name": "stdout",
     "output_type": "stream",
     "text": [
      "1.73 µs ± 73.9 ns per loop (mean ± std. dev. of 7 runs, 100,000 loops each)\n"
     ]
    }
   ],
   "source": [
    "%timeit jit_gen_snake(n)"
   ]
  },
  {
   "cell_type": "code",
   "execution_count": 595,
   "id": "45cdc850",
   "metadata": {},
   "outputs": [
    {
     "data": {
      "text/plain": [
       "array([[5, 3],\n",
       "       [9, 3],\n",
       "       [7, 5],\n",
       "       [1, 0],\n",
       "       [6, 0],\n",
       "       [9, 0],\n",
       "       [3, 2],\n",
       "       [6, 9],\n",
       "       [3, 9],\n",
       "       [6, 6]])"
      ]
     },
     "execution_count": 595,
     "metadata": {},
     "output_type": "execute_result"
    }
   ],
   "source": [
    "get_snake(n)"
   ]
  },
  {
   "cell_type": "code",
   "execution_count": 410,
   "id": "adced5e1",
   "metadata": {},
   "outputs": [
    {
     "name": "stdout",
     "output_type": "stream",
     "text": [
      "263 µs ± 11.9 µs per loop (mean ± std. dev. of 7 runs, 1,000 loops each)\n"
     ]
    }
   ],
   "source": [
    "%timeit gen_snake(10000)"
   ]
  },
  {
   "cell_type": "code",
   "execution_count": 411,
   "id": "81ec8960",
   "metadata": {},
   "outputs": [
    {
     "name": "stdout",
     "output_type": "stream",
     "text": [
      "235 µs ± 17.8 µs per loop (mean ± std. dev. of 7 runs, 1 loop each)\n"
     ]
    }
   ],
   "source": [
    "%timeit jit_gen_snake(10000)"
   ]
  },
  {
   "cell_type": "code",
   "execution_count": 55,
   "id": "116e6b64",
   "metadata": {},
   "outputs": [],
   "source": [
    "n = 10"
   ]
  },
  {
   "cell_type": "code",
   "execution_count": 84,
   "id": "4f4b60d7",
   "metadata": {},
   "outputs": [],
   "source": [
    "tst_100 = np.concatenate((get_snake(n), np.ones((n,1))*n), axis=1)"
   ]
  },
  {
   "cell_type": "code",
   "execution_count": 85,
   "id": "178274b2",
   "metadata": {},
   "outputs": [
    {
     "data": {
      "text/plain": [
       "array([[ 6.,  0., 10.],\n",
       "       [ 6.,  2., 10.],\n",
       "       [ 0.,  5., 10.],\n",
       "       [ 6.,  4., 10.],\n",
       "       [ 4.,  1., 10.],\n",
       "       [ 0.,  1., 10.],\n",
       "       [ 6.,  3., 10.],\n",
       "       [ 7.,  4., 10.],\n",
       "       [ 4.,  1., 10.],\n",
       "       [ 0.,  6., 10.]])"
      ]
     },
     "execution_count": 85,
     "metadata": {},
     "output_type": "execute_result"
    }
   ],
   "source": [
    "tst_100"
   ]
  },
  {
   "cell_type": "code",
   "execution_count": 86,
   "id": "a6effb82",
   "metadata": {},
   "outputs": [],
   "source": [
    "matrix_rand = np.random.rand(len(tst_100),len(tst_100))"
   ]
  },
  {
   "cell_type": "code",
   "execution_count": 87,
   "id": "02caaf6f",
   "metadata": {},
   "outputs": [
    {
     "data": {
      "text/plain": [
       "array([[0.65094263, 0.23526263, 0.08142466, 0.18071204, 0.74222463,\n",
       "        0.64450458, 0.03984536, 0.16433528, 0.70013336, 0.97547316],\n",
       "       [0.80551819, 0.8390096 , 0.78108276, 0.36076337, 0.19497866,\n",
       "        0.15527969, 0.23991343, 0.3819995 , 0.12494041, 0.00382982],\n",
       "       [0.4957965 , 0.74385686, 0.48424524, 0.96334943, 0.03669065,\n",
       "        0.78283677, 0.97251427, 0.07828899, 0.64063917, 0.68241416],\n",
       "       [0.59267473, 0.88933204, 0.95794536, 0.67147557, 0.1794788 ,\n",
       "        0.13868582, 0.10022972, 0.16315419, 0.12266739, 0.94017494],\n",
       "       [0.51722337, 0.49746898, 0.76495251, 0.92923368, 0.24369748,\n",
       "        0.3487944 , 0.77904281, 0.03050799, 0.19150205, 0.36985584],\n",
       "       [0.33751941, 0.28166793, 0.55987652, 0.30016147, 0.76771369,\n",
       "        0.79043334, 0.74384747, 0.40348369, 0.6936538 , 0.29575125],\n",
       "       [0.62180208, 0.70297708, 0.26833182, 0.40966227, 0.82287375,\n",
       "        0.85463497, 0.3638349 , 0.76045657, 0.01834971, 0.05539282],\n",
       "       [0.31305096, 0.20083318, 0.65578239, 0.3307477 , 0.94940194,\n",
       "        0.65132084, 0.70631946, 0.05728711, 0.84041641, 0.93238448],\n",
       "       [0.4983442 , 0.61742954, 0.39151721, 0.71046591, 0.65584931,\n",
       "        0.64473902, 0.74419178, 0.31634759, 0.41518729, 0.77707578],\n",
       "       [0.32280699, 0.08879718, 0.78870409, 0.45696652, 0.18343838,\n",
       "        0.23646238, 0.35926421, 0.69457515, 0.16806725, 0.45610996]])"
      ]
     },
     "execution_count": 87,
     "metadata": {},
     "output_type": "execute_result"
    }
   ],
   "source": [
    "matrix_rand"
   ]
  },
  {
   "cell_type": "code",
   "execution_count": 81,
   "id": "538e770e",
   "metadata": {},
   "outputs": [],
   "source": [
    "coord_map = lambda array: array[1] + array[2]*array[0]"
   ]
  },
  {
   "cell_type": "code",
   "execution_count": 96,
   "id": "f99cb8f2",
   "metadata": {},
   "outputs": [
    {
     "data": {
      "text/plain": [
       "array([[ 6.,  0., 10.],\n",
       "       [ 6.,  2., 10.],\n",
       "       [ 0.,  5., 10.],\n",
       "       [ 6.,  4., 10.],\n",
       "       [ 4.,  1., 10.],\n",
       "       [ 0.,  1., 10.],\n",
       "       [ 6.,  3., 10.],\n",
       "       [ 7.,  4., 10.],\n",
       "       [ 4.,  1., 10.],\n",
       "       [ 0.,  6., 10.]])"
      ]
     },
     "execution_count": 96,
     "metadata": {},
     "output_type": "execute_result"
    }
   ],
   "source": [
    "tst_100"
   ]
  },
  {
   "cell_type": "code",
   "execution_count": 88,
   "id": "7901a0a4",
   "metadata": {},
   "outputs": [
    {
     "data": {
      "text/plain": [
       "62.0"
      ]
     },
     "execution_count": 88,
     "metadata": {},
     "output_type": "execute_result"
    }
   ],
   "source": [
    "\n",
    "tst_100[1][1] + tst_100[1][0]*tst_100[1][2]"
   ]
  },
  {
   "cell_type": "code",
   "execution_count": 94,
   "id": "c5665f5c",
   "metadata": {},
   "outputs": [
    {
     "data": {
      "text/plain": [
       "(6.0, 0.0)"
      ]
     },
     "execution_count": 94,
     "metadata": {},
     "output_type": "execute_result"
    }
   ],
   "source": [
    "tst_100[0][0], tst_100[0][1]"
   ]
  },
  {
   "cell_type": "code",
   "execution_count": 93,
   "id": "7efe4cbd",
   "metadata": {},
   "outputs": [
    {
     "data": {
      "text/plain": [
       "array([60., 62.,  5., 64., 41.,  1., 63., 74., 41.,  6.])"
      ]
     },
     "execution_count": 93,
     "metadata": {},
     "output_type": "execute_result"
    }
   ],
   "source": [
    "coord_map(tst_100.T)"
   ]
  },
  {
   "cell_type": "code",
   "execution_count": 42,
   "id": "56a7b7df",
   "metadata": {},
   "outputs": [
    {
     "data": {
      "text/plain": [
       "35.0"
      ]
     },
     "execution_count": 42,
     "metadata": {},
     "output_type": "execute_result"
    }
   ],
   "source": [
    "tst_100[0][0]"
   ]
  },
  {
   "cell_type": "code",
   "execution_count": 71,
   "id": "53e9ec1c",
   "metadata": {},
   "outputs": [
    {
     "data": {
      "text/plain": [
       "array([0.98993304, 0.27147549, 0.78680207, 0.49958813, 0.8376093 ,\n",
       "       0.99611507, 0.2488792 , 0.6834944 , 0.64309384, 0.38715189,\n",
       "       0.23583879, 0.96563633, 0.5065705 , 0.47545348, 0.61731514,\n",
       "       0.58401777, 0.74982718, 0.60820267, 0.28427987, 0.70118621,\n",
       "       0.42518153, 0.13495452, 0.095735  , 0.49003605, 0.57372099,\n",
       "       0.55490231, 0.67829829, 0.95163307, 0.63067901, 0.73376144,\n",
       "       0.36908504, 0.98295594, 0.17694373, 0.63715724, 0.84485641,\n",
       "       0.43794344, 0.3289573 , 0.09254493, 0.403702  , 0.59935931,\n",
       "       0.87129161, 0.07037408, 0.7483483 , 0.90788993, 0.36626844,\n",
       "       0.26746282, 0.43168895, 0.87312805, 0.84723877, 0.70377646,\n",
       "       0.57816508, 0.06346302, 0.31060093, 0.16377056, 0.68827141,\n",
       "       0.43080916, 0.60317434, 0.88463609, 0.9779892 , 0.41447419,\n",
       "       0.60647368, 0.33616064, 0.02624067, 0.59463355, 0.45837467,\n",
       "       0.9256604 , 0.64274552, 0.99812391, 0.78072998, 0.17398573,\n",
       "       0.67967408, 0.43068612, 0.42667213, 0.36773939, 0.63639318,\n",
       "       0.41720723, 0.33609539, 0.72329508, 0.74617013, 0.83185967,\n",
       "       0.62141718, 0.03831362, 0.725587  , 0.24396351, 0.66561099,\n",
       "       0.15111368, 0.56467548, 0.34880969, 0.31991296, 0.68408593,\n",
       "       0.68755325, 0.49382944, 0.64806884, 0.22960092, 0.40942796,\n",
       "       0.61565908, 0.8621095 , 0.02667023, 0.67119404, 0.41848026])"
      ]
     },
     "execution_count": 71,
     "metadata": {},
     "output_type": "execute_result"
    }
   ],
   "source": [
    "matrix_rand.flatten()"
   ]
  },
  {
   "cell_type": "code",
   "execution_count": 99,
   "id": "1ba2cde0",
   "metadata": {},
   "outputs": [
    {
     "data": {
      "text/plain": [
       "array([[0.65094263, 0.23526263, 0.08142466, 0.18071204, 0.74222463,\n",
       "        0.64450458, 0.03984536, 0.16433528, 0.70013336, 0.97547316],\n",
       "       [0.80551819, 0.8390096 , 0.78108276, 0.36076337, 0.19497866,\n",
       "        0.15527969, 0.23991343, 0.3819995 , 0.12494041, 0.00382982],\n",
       "       [0.4957965 , 0.74385686, 0.48424524, 0.96334943, 0.03669065,\n",
       "        0.78283677, 0.97251427, 0.07828899, 0.64063917, 0.68241416],\n",
       "       [0.59267473, 0.88933204, 0.95794536, 0.67147557, 0.1794788 ,\n",
       "        0.13868582, 0.10022972, 0.16315419, 0.12266739, 0.94017494],\n",
       "       [0.51722337, 0.49746898, 0.76495251, 0.92923368, 0.24369748,\n",
       "        0.3487944 , 0.77904281, 0.03050799, 0.19150205, 0.36985584],\n",
       "       [0.33751941, 0.28166793, 0.55987652, 0.30016147, 0.76771369,\n",
       "        0.79043334, 0.74384747, 0.40348369, 0.6936538 , 0.29575125],\n",
       "       [0.62180208, 0.70297708, 0.26833182, 0.40966227, 0.82287375,\n",
       "        0.85463497, 0.3638349 , 0.76045657, 0.01834971, 0.05539282],\n",
       "       [0.31305096, 0.20083318, 0.65578239, 0.3307477 , 0.94940194,\n",
       "        0.65132084, 0.70631946, 0.05728711, 0.84041641, 0.93238448],\n",
       "       [0.4983442 , 0.61742954, 0.39151721, 0.71046591, 0.65584931,\n",
       "        0.64473902, 0.74419178, 0.31634759, 0.41518729, 0.77707578],\n",
       "       [0.32280699, 0.08879718, 0.78870409, 0.45696652, 0.18343838,\n",
       "        0.23646238, 0.35926421, 0.69457515, 0.16806725, 0.45610996]])"
      ]
     },
     "execution_count": 99,
     "metadata": {},
     "output_type": "execute_result"
    }
   ],
   "source": [
    "matrix_rand"
   ]
  },
  {
   "cell_type": "code",
   "execution_count": 97,
   "id": "11a317e2",
   "metadata": {},
   "outputs": [
    {
     "data": {
      "text/plain": [
       "0.6218020834370944"
      ]
     },
     "execution_count": 97,
     "metadata": {},
     "output_type": "execute_result"
    }
   ],
   "source": [
    "matrix_rand.flatten()[60]"
   ]
  },
  {
   "cell_type": "code",
   "execution_count": 98,
   "id": "dcaa9800",
   "metadata": {},
   "outputs": [
    {
     "data": {
      "text/plain": [
       "array([0.62180208])"
      ]
     },
     "execution_count": 98,
     "metadata": {},
     "output_type": "execute_result"
    }
   ],
   "source": [
    "matrix_rand[int(tst_100[0][0])][[int(tst_100[0][1])]]"
   ]
  },
  {
   "cell_type": "code",
   "execution_count": 54,
   "id": "d716e45d",
   "metadata": {},
   "outputs": [
    {
     "data": {
      "text/plain": [
       "array([[0.97372959, 0.69206791, 0.73016185, ..., 0.64686988, 0.19648351,\n",
       "        0.41240013],\n",
       "       [0.22327001, 0.60350549, 0.31814108, ..., 0.34749915, 0.99538367,\n",
       "        0.05726791],\n",
       "       [0.96093036, 0.50231519, 0.43393001, ..., 0.73452559, 0.0544358 ,\n",
       "        0.20276192],\n",
       "       ...,\n",
       "       [0.75980218, 0.30476219, 0.99818988, ..., 0.1018863 , 0.86462887,\n",
       "        0.39666709],\n",
       "       [0.23988485, 0.09526438, 0.27274236, ..., 0.4049683 , 0.17808178,\n",
       "        0.17994513],\n",
       "       [0.32332221, 0.63781744, 0.09585193, ..., 0.70396065, 0.82062359,\n",
       "        0.37064398]])"
      ]
     },
     "execution_count": 54,
     "metadata": {},
     "output_type": "execute_result"
    }
   ],
   "source": [
    "matrix_rand"
   ]
  },
  {
   "cell_type": "code",
   "execution_count": 68,
   "id": "7a620581",
   "metadata": {},
   "outputs": [
    {
     "data": {
      "text/plain": [
       "(8, 2)"
      ]
     },
     "execution_count": 68,
     "metadata": {},
     "output_type": "execute_result"
    }
   ],
   "source": [
    "int(tst_100[0][1]), int(tst_100[0][0])"
   ]
  },
  {
   "cell_type": "code",
   "execution_count": 67,
   "id": "f41138a4",
   "metadata": {},
   "outputs": [
    {
     "data": {
      "text/plain": [
       "array([0.725587])"
      ]
     },
     "execution_count": 67,
     "metadata": {},
     "output_type": "execute_result"
    }
   ],
   "source": [
    "matrix_rand[int(tst_100[0][1])][[int(tst_100[0][0])]]"
   ]
  },
  {
   "cell_type": "code",
   "execution_count": 414,
   "id": "3f962c14",
   "metadata": {},
   "outputs": [],
   "source": [
    "def format_existing_snake(snake):\n",
    "\n",
    "    return np.concatenate((snake, np.ones((len(snake),1))), axis=1)"
   ]
  },
  {
   "cell_type": "code",
   "execution_count": 603,
   "id": "f258184f",
   "metadata": {},
   "outputs": [],
   "source": [
    "@jit\n",
    "def jit_format_existing_snake(snake_list, game_size):\n",
    "\n",
    "    return np.concatenate((np.array(snake_list), np.ones((len(snake_list),1))*game_size), axis=1)"
   ]
  },
  {
   "cell_type": "code",
   "execution_count": 606,
   "id": "0ac3db2d",
   "metadata": {},
   "outputs": [],
   "source": [
    "snake_list = [[1,2], [3,4]]\n",
    "game_size=20"
   ]
  },
  {
   "cell_type": "code",
   "execution_count": 610,
   "id": "5e681e53",
   "metadata": {},
   "outputs": [
    {
     "data": {
      "text/plain": [
       "array([1, 2])"
      ]
     },
     "execution_count": 610,
     "metadata": {},
     "output_type": "execute_result"
    }
   ],
   "source": [
    "np.array(snake_list)[0]"
   ]
  },
  {
   "cell_type": "code",
   "execution_count": 607,
   "id": "a9b9b865",
   "metadata": {},
   "outputs": [
    {
     "name": "stderr",
     "output_type": "stream",
     "text": [
      "/Users/cormacberkery/.pyenv/versions/3.10.3/envs/neural-snake-env/lib/python3.10/site-packages/numba/core/ir_utils.py:2147: NumbaPendingDeprecationWarning: \n",
      "Encountered the use of a type that is scheduled for deprecation: type 'reflected list' found for argument 'snake_list' of function 'jit_format_existing_snake'.\n",
      "\n",
      "For more information visit https://numba.readthedocs.io/en/stable/reference/deprecation.html#deprecation-of-reflection-for-list-and-set-types\n",
      "\n",
      "File \"../../../../var/folders/17/g85b6v515_bglny9pz0l0lfr0000gn/T/ipykernel_94644/2417131133.py\", line 1:\n",
      "<source missing, REPL/exec in use?>\n",
      "\n",
      "  warnings.warn(NumbaPendingDeprecationWarning(msg, loc=loc))\n",
      "/var/folders/17/g85b6v515_bglny9pz0l0lfr0000gn/T/ipykernel_94644/2417131133.py:1: NumbaWarning: \n",
      "Compilation is falling back to object mode WITH looplifting enabled because Function jit_format_existing_snake failed at nopython mode lowering due to: cannot reflect element of reflected container: reflected list(reflected list(int64)<iv=None>)<iv=None>\n",
      "\n",
      "  @jit\n",
      "/Users/cormacberkery/.pyenv/versions/3.10.3/envs/neural-snake-env/lib/python3.10/site-packages/numba/core/object_mode_passes.py:151: NumbaWarning: Function \"jit_format_existing_snake\" was compiled in object mode without forceobj=True.\n",
      "\n",
      "File \"../../../../var/folders/17/g85b6v515_bglny9pz0l0lfr0000gn/T/ipykernel_94644/2417131133.py\", line 1:\n",
      "<source missing, REPL/exec in use?>\n",
      "\n",
      "  warnings.warn(errors.NumbaWarning(warn_msg,\n",
      "/Users/cormacberkery/.pyenv/versions/3.10.3/envs/neural-snake-env/lib/python3.10/site-packages/numba/core/object_mode_passes.py:161: NumbaDeprecationWarning: \n",
      "Fall-back from the nopython compilation path to the object mode compilation path has been detected, this is deprecated behaviour.\n",
      "\n",
      "For more information visit https://numba.readthedocs.io/en/stable/reference/deprecation.html#deprecation-of-object-mode-fall-back-behaviour-when-using-jit\n",
      "\n",
      "File \"../../../../var/folders/17/g85b6v515_bglny9pz0l0lfr0000gn/T/ipykernel_94644/2417131133.py\", line 1:\n",
      "<source missing, REPL/exec in use?>\n",
      "\n",
      "  warnings.warn(errors.NumbaDeprecationWarning(msg,\n"
     ]
    },
    {
     "data": {
      "text/plain": [
       "array([[ 1.,  2., 20.],\n",
       "       [ 3.,  4., 20.]])"
      ]
     },
     "execution_count": 607,
     "metadata": {},
     "output_type": "execute_result"
    }
   ],
   "source": [
    "jit_format_existing_snake(snake_list, game_size)"
   ]
  },
  {
   "cell_type": "code",
   "execution_count": 416,
   "id": "211644c5",
   "metadata": {},
   "outputs": [
    {
     "name": "stdout",
     "output_type": "stream",
     "text": [
      "4.13 µs ± 73.8 ns per loop (mean ± std. dev. of 7 runs, 100,000 loops each)\n"
     ]
    }
   ],
   "source": [
    "%timeit format_existing_snake(example_snake)"
   ]
  },
  {
   "cell_type": "code",
   "execution_count": 418,
   "id": "01a37352",
   "metadata": {},
   "outputs": [
    {
     "name": "stdout",
     "output_type": "stream",
     "text": [
      "1.16 µs ± 18.1 ns per loop (mean ± std. dev. of 7 runs, 1,000,000 loops each)\n"
     ]
    }
   ],
   "source": [
    "%timeit jit_format_existing_snake(example_snake)"
   ]
  },
  {
   "cell_type": "code",
   "execution_count": 294,
   "id": "65242b4c",
   "metadata": {},
   "outputs": [],
   "source": [
    "np_convert = np.vectorize(convert)"
   ]
  },
  {
   "cell_type": "code",
   "execution_count": 295,
   "id": "ae6148e9",
   "metadata": {},
   "outputs": [],
   "source": [
    "np_convert2 = np.vectorize(convert2)"
   ]
  },
  {
   "cell_type": "code",
   "execution_count": 296,
   "id": "625075e3",
   "metadata": {},
   "outputs": [],
   "source": [
    "example_snake = gen_snake(10)"
   ]
  },
  {
   "cell_type": "code",
   "execution_count": 297,
   "id": "31acbe42",
   "metadata": {},
   "outputs": [
    {
     "data": {
      "text/plain": [
       "numpy.float64"
      ]
     },
     "execution_count": 297,
     "metadata": {},
     "output_type": "execute_result"
    }
   ],
   "source": [
    "type(example_snake[0][0])"
   ]
  },
  {
   "cell_type": "code",
   "execution_count": 578,
   "id": "eb40348e",
   "metadata": {},
   "outputs": [
    {
     "name": "stdout",
     "output_type": "stream",
     "text": [
      "1.52 µs ± 51.9 ns per loop (mean ± std. dev. of 7 runs, 1,000,000 loops each)\n"
     ]
    }
   ],
   "source": [
    "%timeit convert2(example_snake.T)"
   ]
  },
  {
   "cell_type": "code",
   "execution_count": 579,
   "id": "77f94b23",
   "metadata": {},
   "outputs": [
    {
     "name": "stdout",
     "output_type": "stream",
     "text": [
      "1.51 µs ± 31.6 ns per loop (mean ± std. dev. of 7 runs, 1,000,000 loops each)\n"
     ]
    }
   ],
   "source": [
    "%timeit jit_convert2(example_snake.T)"
   ]
  },
  {
   "cell_type": "markdown",
   "id": "dc36b710",
   "metadata": {},
   "source": [
    "# Example change vals of flat matrix"
   ]
  },
  {
   "cell_type": "markdown",
   "id": "1fb54942",
   "metadata": {},
   "source": [
    "# Example routine"
   ]
  },
  {
   "cell_type": "code",
   "execution_count": 584,
   "id": "bb51240f",
   "metadata": {},
   "outputs": [],
   "source": [
    "area_size = 40\n",
    "length_snake = 5"
   ]
  },
  {
   "cell_type": "code",
   "execution_count": 592,
   "id": "23d532d6",
   "metadata": {},
   "outputs": [
    {
     "data": {
      "text/plain": [
       "array([[0., 2., 1.],\n",
       "       [3., 1., 1.],\n",
       "       [1., 4., 1.],\n",
       "       [1., 2., 1.],\n",
       "       [3., 4., 1.]])"
      ]
     },
     "execution_count": 592,
     "metadata": {},
     "output_type": "execute_result"
    }
   ],
   "source": [
    "gen_snake(length_snake)"
   ]
  },
  {
   "cell_type": "code",
   "execution_count": 585,
   "id": "7482c3d2",
   "metadata": {},
   "outputs": [],
   "source": [
    "def initiate_and_run(area_size, length_snake, iterations):\n",
    "    example_snake = gen_snake(length_snake)\n",
    "    area_repr = np.zeros(area_size*area_size)\n",
    "    \n",
    "    for i in range(iterations):\n",
    "        \n",
    "        area_repr = update_coords(area_repr, example_snake)\n",
    "    "
   ]
  },
  {
   "cell_type": "code",
   "execution_count": 586,
   "id": "bda40ed0",
   "metadata": {},
   "outputs": [
    {
     "name": "stdout",
     "output_type": "stream",
     "text": [
      "54 ms ± 1.9 ms per loop (mean ± std. dev. of 7 runs, 10 loops each)\n"
     ]
    }
   ],
   "source": [
    "%timeit initiate_and_run(400, 10, 1000)"
   ]
  },
  {
   "cell_type": "code",
   "execution_count": 587,
   "id": "6b83d870",
   "metadata": {},
   "outputs": [
    {
     "name": "stdout",
     "output_type": "stream",
     "text": [
      "332 ms ± 14.1 ms per loop (mean ± std. dev. of 7 runs, 1 loop each)\n"
     ]
    }
   ],
   "source": [
    "%timeit initiate_and_run(800, 10, 1000)"
   ]
  },
  {
   "cell_type": "code",
   "execution_count": 588,
   "id": "dab1474b",
   "metadata": {},
   "outputs": [],
   "source": [
    "@jit\n",
    "def initiate_and_run_jit(area_size, length_snake, iterations):\n",
    "    example_snake = gen_snake(length_snake)\n",
    "    area_repr = np.zeros(area_size*area_size)\n",
    "    \n",
    "    for i in range(iterations):\n",
    "        \n",
    "        area_repr = update_coords_jit(area_repr, example_snake)"
   ]
  },
  {
   "cell_type": "code",
   "execution_count": 591,
   "id": "f3bd2f56",
   "metadata": {},
   "outputs": [
    {
     "name": "stdout",
     "output_type": "stream",
     "text": [
      "34.7 ms ± 405 µs per loop (mean ± std. dev. of 7 runs, 10 loops each)\n"
     ]
    }
   ],
   "source": [
    "%timeit initiate_and_run_jit(400, 10, 1000)"
   ]
  },
  {
   "cell_type": "code",
   "execution_count": 590,
   "id": "8d7d083d",
   "metadata": {},
   "outputs": [],
   "source": [
    "example_snake = gen_snake(length_snake)"
   ]
  },
  {
   "cell_type": "code",
   "execution_count": 347,
   "id": "6a1a4bd8",
   "metadata": {},
   "outputs": [
    {
     "data": {
      "text/plain": [
       "array([[0., 3., 1.],\n",
       "       [2., 3., 1.],\n",
       "       [4., 3., 1.],\n",
       "       [2., 2., 1.],\n",
       "       [3., 0., 1.]])"
      ]
     },
     "execution_count": 347,
     "metadata": {},
     "output_type": "execute_result"
    }
   ],
   "source": [
    "example_snake"
   ]
  },
  {
   "cell_type": "code",
   "execution_count": 348,
   "id": "397cd002",
   "metadata": {},
   "outputs": [],
   "source": [
    "#Get index \n",
    "idx = convert2(example_snake.T)"
   ]
  },
  {
   "cell_type": "code",
   "execution_count": 349,
   "id": "995efe39",
   "metadata": {},
   "outputs": [
    {
     "data": {
      "text/plain": [
       "array([3., 5., 7., 4., 3.])"
      ]
     },
     "execution_count": 349,
     "metadata": {},
     "output_type": "execute_result"
    }
   ],
   "source": [
    "idx"
   ]
  },
  {
   "cell_type": "code",
   "execution_count": 350,
   "id": "1d915a24",
   "metadata": {},
   "outputs": [
    {
     "name": "stdout",
     "output_type": "stream",
     "text": [
      "444 ns ± 8.43 ns per loop (mean ± std. dev. of 7 runs, 1,000,000 loops each)\n"
     ]
    }
   ],
   "source": [
    "%timeit idx.astype(int)"
   ]
  },
  {
   "cell_type": "code",
   "execution_count": 351,
   "id": "7564913b",
   "metadata": {},
   "outputs": [
    {
     "name": "stdout",
     "output_type": "stream",
     "text": [
      "582 ns ± 9.57 ns per loop (mean ± std. dev. of 7 runs, 1,000,000 loops each)\n"
     ]
    }
   ],
   "source": [
    "%timeit np.zeros(area_size*area_size)"
   ]
  },
  {
   "cell_type": "code",
   "execution_count": 352,
   "id": "8e25ca2e",
   "metadata": {},
   "outputs": [],
   "source": [
    "area_repr = np.zeros(area_size*area_size)"
   ]
  },
  {
   "cell_type": "code",
   "execution_count": 353,
   "id": "36bfec53",
   "metadata": {},
   "outputs": [],
   "source": [
    "area_repr[idx.astype(int)] = 1"
   ]
  },
  {
   "cell_type": "code",
   "execution_count": 354,
   "id": "823a8780",
   "metadata": {},
   "outputs": [
    {
     "data": {
      "text/plain": [
       "1600"
      ]
     },
     "execution_count": 354,
     "metadata": {},
     "output_type": "execute_result"
    }
   ],
   "source": [
    "len(area_repr)"
   ]
  },
  {
   "cell_type": "code",
   "execution_count": 356,
   "id": "0a573003",
   "metadata": {},
   "outputs": [],
   "source": [
    "def get_coords_as_array(area_size, length_snake):\n",
    "#     example_snake = gen_snake(length_snake)\n",
    "#     idx = convert2(example_snake.T)\n",
    "    area_repr = np.zeros(area_size*area_size)\n",
    "    area_repr[convert2(gen_snake(length_snake).T).astype(int)] = 1\n",
    "    return area_repr"
   ]
  },
  {
   "cell_type": "code",
   "execution_count": 357,
   "id": "dfaead62",
   "metadata": {},
   "outputs": [
    {
     "data": {
      "text/plain": [
       "array([1., 0., 0., ..., 0., 0., 0.])"
      ]
     },
     "execution_count": 357,
     "metadata": {},
     "output_type": "execute_result"
    }
   ],
   "source": [
    "get_coords_as_array(area_size, 1)"
   ]
  },
  {
   "cell_type": "code",
   "execution_count": 369,
   "id": "5c1b451a",
   "metadata": {},
   "outputs": [],
   "source": [
    "x = np.ones(area_size)"
   ]
  },
  {
   "cell_type": "code",
   "execution_count": 370,
   "id": "56d7adf6",
   "metadata": {},
   "outputs": [
    {
     "name": "stdout",
     "output_type": "stream",
     "text": [
      "1.84 µs ± 53.4 ns per loop (mean ± std. dev. of 7 runs, 1,000,000 loops each)\n"
     ]
    }
   ],
   "source": [
    "%timeit np.ones(area_size)"
   ]
  },
  {
   "cell_type": "code",
   "execution_count": 371,
   "id": "51315d11",
   "metadata": {},
   "outputs": [
    {
     "name": "stdout",
     "output_type": "stream",
     "text": [
      "254 ns ± 3.92 ns per loop (mean ± std. dev. of 7 runs, 1,000,000 loops each)\n"
     ]
    }
   ],
   "source": [
    "%timeit x.fill(0)"
   ]
  },
  {
   "cell_type": "code",
   "execution_count": null,
   "id": "bbb98666",
   "metadata": {},
   "outputs": [],
   "source": []
  },
  {
   "cell_type": "code",
   "execution_count": 330,
   "id": "49d5c65f",
   "metadata": {},
   "outputs": [
    {
     "name": "stdout",
     "output_type": "stream",
     "text": [
      "31.2 µs ± 1.44 µs per loop (mean ± std. dev. of 7 runs, 10,000 loops each)\n"
     ]
    }
   ],
   "source": [
    "%timeit get_coords_as_array(30, 5)"
   ]
  },
  {
   "cell_type": "code",
   "execution_count": 331,
   "id": "f66b6e6d",
   "metadata": {},
   "outputs": [
    {
     "name": "stdout",
     "output_type": "stream",
     "text": [
      "186 µs ± 5.7 µs per loop (mean ± std. dev. of 7 runs, 10,000 loops each)\n"
     ]
    }
   ],
   "source": [
    "%timeit get_coords_as_array(800, 5)"
   ]
  },
  {
   "cell_type": "code",
   "execution_count": 432,
   "id": "2a96242b",
   "metadata": {},
   "outputs": [],
   "source": [
    "def update_coords(area_repr, snake):\n",
    "    area_repr.fill(0)\n",
    "    area_repr[convert2(snake.T).astype(np.int64)] = 1\n",
    "    return area_repr"
   ]
  },
  {
   "cell_type": "code",
   "execution_count": 453,
   "id": "61b10962",
   "metadata": {},
   "outputs": [],
   "source": [
    "@jit\n",
    "def update_coords_jit(area_repr, snake):\n",
    "    area_repr.fill(0)\n",
    "    area_repr[convert2(snake.T).astype(np.int64)] = 1\n",
    "    return area_repr"
   ]
  },
  {
   "cell_type": "code",
   "execution_count": 434,
   "id": "74dfcd14",
   "metadata": {},
   "outputs": [
    {
     "data": {
      "text/plain": [
       "array([0., 0., 0., ..., 0., 0., 0.])"
      ]
     },
     "execution_count": 434,
     "metadata": {},
     "output_type": "execute_result"
    }
   ],
   "source": [
    "area_repr"
   ]
  },
  {
   "cell_type": "code",
   "execution_count": 580,
   "id": "2ecd3bf8",
   "metadata": {},
   "outputs": [
    {
     "name": "stdout",
     "output_type": "stream",
     "text": [
      "5 µs ± 103 ns per loop (mean ± std. dev. of 7 runs, 100,000 loops each)\n"
     ]
    }
   ],
   "source": [
    "%timeit update_coords(area_repr, example_snake)"
   ]
  },
  {
   "cell_type": "code",
   "execution_count": 581,
   "id": "e858aa7f",
   "metadata": {},
   "outputs": [
    {
     "name": "stdout",
     "output_type": "stream",
     "text": [
      "1.85 µs ± 44.9 ns per loop (mean ± std. dev. of 7 runs, 100,000 loops each)\n"
     ]
    }
   ],
   "source": [
    "%timeit update_coords_jit(area_repr, example_snake)"
   ]
  },
  {
   "cell_type": "code",
   "execution_count": 582,
   "id": "4ef6e2f5",
   "metadata": {},
   "outputs": [
    {
     "data": {
      "text/plain": [
       "array([[0., 3., 1.],\n",
       "       [2., 3., 1.],\n",
       "       [4., 3., 1.],\n",
       "       [2., 2., 1.],\n",
       "       [3., 0., 1.]])"
      ]
     },
     "execution_count": 582,
     "metadata": {},
     "output_type": "execute_result"
    }
   ],
   "source": [
    "example_snake"
   ]
  },
  {
   "cell_type": "code",
   "execution_count": 583,
   "id": "2265c4a4",
   "metadata": {},
   "outputs": [
    {
     "data": {
      "text/plain": [
       "array([0., 0., 0., ..., 0., 0., 0.])"
      ]
     },
     "execution_count": 583,
     "metadata": {},
     "output_type": "execute_result"
    }
   ],
   "source": [
    "area_repr"
   ]
  },
  {
   "cell_type": "markdown",
   "id": "95328835",
   "metadata": {},
   "source": [
    "# Compute predictions "
   ]
  },
  {
   "cell_type": "code",
   "execution_count": 111,
   "id": "075c4d6c",
   "metadata": {},
   "outputs": [
    {
     "data": {
      "text/plain": [
       "array([0.27429483, 0.30995824, 0.7778103 , 0.70532441, 0.63622821,\n",
       "       0.4443013 , 0.52273716, 0.3389227 , 0.78357913, 0.33947022,\n",
       "       0.18131956, 0.08917851, 0.21767887, 0.48095971, 0.77498187])"
      ]
     },
     "execution_count": 111,
     "metadata": {},
     "output_type": "execute_result"
    }
   ],
   "source": [
    "np.random.rand(15)"
   ]
  },
  {
   "cell_type": "code",
   "execution_count": 112,
   "id": "89bd37af",
   "metadata": {},
   "outputs": [
    {
     "data": {
      "text/plain": [
       "array([0.01134302, 0.56963355, 0.08776902, 0.24069804, 0.74144334,\n",
       "       0.26634991, 0.1584451 , 0.37935952, 0.05927135, 0.14668544])"
      ]
     },
     "execution_count": 112,
     "metadata": {},
     "output_type": "execute_result"
    }
   ],
   "source": [
    "np.random.rand(10)"
   ]
  },
  {
   "cell_type": "code",
   "execution_count": 113,
   "id": "8129f067",
   "metadata": {},
   "outputs": [
    {
     "data": {
      "text/plain": [
       "(5, 3)"
      ]
     },
     "execution_count": 113,
     "metadata": {},
     "output_type": "execute_result"
    }
   ],
   "source": [
    "W1.shape"
   ]
  },
  {
   "cell_type": "code",
   "execution_count": 114,
   "id": "11f5ad8f",
   "metadata": {},
   "outputs": [],
   "source": [
    "@jit\n",
    "def make__random_network(input_size, output_size, l1_size, l2_size):\n",
    "    \n",
    "    \n",
    "    \n",
    "    W1= np.random.rand(l1_size, input_size)\n",
    "    #print(W1)\n",
    "    A1 = np.ones(input_size) \n",
    "    \n",
    "\n",
    "    #A1 = np.transpose(A1)\n",
    "\n",
    "\n",
    "    A2 = np.dot(W1, A1)\n",
    "    \n",
    "    #print(A2)\n",
    "\n",
    "\n",
    "    W2= np.random.rand(l1_size, l2_size)\n",
    "    \n",
    "    A3 = np.dot(W2, A2)\n",
    "    \n",
    "    #print(A3)\n",
    "    A3 = np.transpose(A3)\n",
    "    \n",
    "    W4 = np.random.rand(output_size, l2_size)\n",
    "    #print(W4)\n",
    "    \n",
    "    A4 = np.dot(W4, A3)\n",
    "\n",
    "    \n",
    "    return A4"
   ]
  },
  {
   "cell_type": "code",
   "execution_count": 115,
   "id": "1e8de385",
   "metadata": {},
   "outputs": [],
   "source": [
    "def make_random_network_small(input_size, output_size, l1_size, l2_size):\n",
    "    \n",
    "\n",
    "\n",
    "    return np.dot(np.random.rand(output_size, l2_size), np.dot(np.random.rand(l1_size, l2_size),np.dot(W1, np.ones(input_size))).T)\n",
    "    \n"
   ]
  },
  {
   "cell_type": "code",
   "execution_count": 123,
   "id": "9b960f51",
   "metadata": {},
   "outputs": [
    {
     "name": "stdout",
     "output_type": "stream",
     "text": [
      "5.35 µs ± 126 ns per loop (mean ± std. dev. of 7 runs, 100,000 loops each)\n"
     ]
    }
   ],
   "source": [
    "%timeit make__random_network(10, 5, 20, 20)"
   ]
  },
  {
   "cell_type": "code",
   "execution_count": 124,
   "id": "caa0de4f",
   "metadata": {},
   "outputs": [
    {
     "data": {
      "text/plain": [
       "array([592.08323582, 528.51176981, 549.55373593, 502.16092544,\n",
       "       506.55515532])"
      ]
     },
     "execution_count": 124,
     "metadata": {},
     "output_type": "execute_result"
    }
   ],
   "source": [
    "make__random_network(10, 5, 20, 20)\n"
   ]
  },
  {
   "cell_type": "code",
   "execution_count": 569,
   "id": "5e987fe5",
   "metadata": {},
   "outputs": [
    {
     "name": "stdout",
     "output_type": "stream",
     "text": [
      "7.75 µs ± 178 ns per loop (mean ± std. dev. of 7 runs, 100,000 loops each)\n"
     ]
    }
   ],
   "source": [
    "%timeit make__random_network(10, 5, 20, 20)"
   ]
  },
  {
   "cell_type": "code",
   "execution_count": 122,
   "id": "ac8c674b",
   "metadata": {},
   "outputs": [
    {
     "ename": "ValueError",
     "evalue": "shapes (5,3) and (10,) not aligned: 3 (dim 1) != 10 (dim 0)",
     "output_type": "error",
     "traceback": [
      "\u001b[0;31m---------------------------------------------------------------------------\u001b[0m",
      "\u001b[0;31mValueError\u001b[0m                                Traceback (most recent call last)",
      "Cell \u001b[0;32mIn [122], line 1\u001b[0m\n\u001b[0;32m----> 1\u001b[0m \u001b[43mget_ipython\u001b[49m\u001b[43m(\u001b[49m\u001b[43m)\u001b[49m\u001b[38;5;241;43m.\u001b[39;49m\u001b[43mrun_line_magic\u001b[49m\u001b[43m(\u001b[49m\u001b[38;5;124;43m'\u001b[39;49m\u001b[38;5;124;43mtimeit\u001b[39;49m\u001b[38;5;124;43m'\u001b[39;49m\u001b[43m,\u001b[49m\u001b[43m \u001b[49m\u001b[38;5;124;43m'\u001b[39;49m\u001b[38;5;124;43mmake_random_network_small(10, 5, 20, 20)\u001b[39;49m\u001b[38;5;124;43m'\u001b[39;49m\u001b[43m)\u001b[49m\n",
      "File \u001b[0;32m~/.pyenv/versions/3.10.3/envs/neural-snake-env/lib/python3.10/site-packages/IPython/core/interactiveshell.py:2364\u001b[0m, in \u001b[0;36mInteractiveShell.run_line_magic\u001b[0;34m(self, magic_name, line, _stack_depth)\u001b[0m\n\u001b[1;32m   2362\u001b[0m     kwargs[\u001b[38;5;124m'\u001b[39m\u001b[38;5;124mlocal_ns\u001b[39m\u001b[38;5;124m'\u001b[39m] \u001b[38;5;241m=\u001b[39m \u001b[38;5;28mself\u001b[39m\u001b[38;5;241m.\u001b[39mget_local_scope(stack_depth)\n\u001b[1;32m   2363\u001b[0m \u001b[38;5;28;01mwith\u001b[39;00m \u001b[38;5;28mself\u001b[39m\u001b[38;5;241m.\u001b[39mbuiltin_trap:\n\u001b[0;32m-> 2364\u001b[0m     result \u001b[38;5;241m=\u001b[39m \u001b[43mfn\u001b[49m\u001b[43m(\u001b[49m\u001b[38;5;241;43m*\u001b[39;49m\u001b[43margs\u001b[49m\u001b[43m,\u001b[49m\u001b[43m \u001b[49m\u001b[38;5;241;43m*\u001b[39;49m\u001b[38;5;241;43m*\u001b[39;49m\u001b[43mkwargs\u001b[49m\u001b[43m)\u001b[49m\n\u001b[1;32m   2365\u001b[0m \u001b[38;5;28;01mreturn\u001b[39;00m result\n",
      "File \u001b[0;32m~/.pyenv/versions/3.10.3/envs/neural-snake-env/lib/python3.10/site-packages/IPython/core/magics/execution.py:1162\u001b[0m, in \u001b[0;36mExecutionMagics.timeit\u001b[0;34m(self, line, cell, local_ns)\u001b[0m\n\u001b[1;32m   1160\u001b[0m \u001b[38;5;28;01mfor\u001b[39;00m index \u001b[38;5;129;01min\u001b[39;00m \u001b[38;5;28mrange\u001b[39m(\u001b[38;5;241m0\u001b[39m, \u001b[38;5;241m10\u001b[39m):\n\u001b[1;32m   1161\u001b[0m     number \u001b[38;5;241m=\u001b[39m \u001b[38;5;241m10\u001b[39m \u001b[38;5;241m*\u001b[39m\u001b[38;5;241m*\u001b[39m index\n\u001b[0;32m-> 1162\u001b[0m     time_number \u001b[38;5;241m=\u001b[39m \u001b[43mtimer\u001b[49m\u001b[38;5;241;43m.\u001b[39;49m\u001b[43mtimeit\u001b[49m\u001b[43m(\u001b[49m\u001b[43mnumber\u001b[49m\u001b[43m)\u001b[49m\n\u001b[1;32m   1163\u001b[0m     \u001b[38;5;28;01mif\u001b[39;00m time_number \u001b[38;5;241m>\u001b[39m\u001b[38;5;241m=\u001b[39m \u001b[38;5;241m0.2\u001b[39m:\n\u001b[1;32m   1164\u001b[0m         \u001b[38;5;28;01mbreak\u001b[39;00m\n",
      "File \u001b[0;32m~/.pyenv/versions/3.10.3/envs/neural-snake-env/lib/python3.10/site-packages/IPython/core/magics/execution.py:156\u001b[0m, in \u001b[0;36mTimer.timeit\u001b[0;34m(self, number)\u001b[0m\n\u001b[1;32m    154\u001b[0m gc\u001b[38;5;241m.\u001b[39mdisable()\n\u001b[1;32m    155\u001b[0m \u001b[38;5;28;01mtry\u001b[39;00m:\n\u001b[0;32m--> 156\u001b[0m     timing \u001b[38;5;241m=\u001b[39m \u001b[38;5;28;43mself\u001b[39;49m\u001b[38;5;241;43m.\u001b[39;49m\u001b[43minner\u001b[49m\u001b[43m(\u001b[49m\u001b[43mit\u001b[49m\u001b[43m,\u001b[49m\u001b[43m \u001b[49m\u001b[38;5;28;43mself\u001b[39;49m\u001b[38;5;241;43m.\u001b[39;49m\u001b[43mtimer\u001b[49m\u001b[43m)\u001b[49m\n\u001b[1;32m    157\u001b[0m \u001b[38;5;28;01mfinally\u001b[39;00m:\n\u001b[1;32m    158\u001b[0m     \u001b[38;5;28;01mif\u001b[39;00m gcold:\n",
      "File \u001b[0;32m<magic-timeit>:1\u001b[0m, in \u001b[0;36minner\u001b[0;34m(_it, _timer)\u001b[0m\n",
      "Cell \u001b[0;32mIn [115], line 5\u001b[0m, in \u001b[0;36mmake_random_network_small\u001b[0;34m(input_size, output_size, l1_size, l2_size)\u001b[0m\n\u001b[1;32m      1\u001b[0m \u001b[38;5;28;01mdef\u001b[39;00m \u001b[38;5;21mmake_random_network_small\u001b[39m(input_size, output_size, l1_size, l2_size):\n\u001b[0;32m----> 5\u001b[0m     \u001b[38;5;28;01mreturn\u001b[39;00m np\u001b[38;5;241m.\u001b[39mdot(np\u001b[38;5;241m.\u001b[39mrandom\u001b[38;5;241m.\u001b[39mrand(output_size, l2_size), np\u001b[38;5;241m.\u001b[39mdot(np\u001b[38;5;241m.\u001b[39mrandom\u001b[38;5;241m.\u001b[39mrand(l1_size, l2_size),\u001b[43mnp\u001b[49m\u001b[38;5;241;43m.\u001b[39;49m\u001b[43mdot\u001b[49m\u001b[43m(\u001b[49m\u001b[43mW1\u001b[49m\u001b[43m,\u001b[49m\u001b[43m \u001b[49m\u001b[43mnp\u001b[49m\u001b[38;5;241;43m.\u001b[39;49m\u001b[43mones\u001b[49m\u001b[43m(\u001b[49m\u001b[43minput_size\u001b[49m\u001b[43m)\u001b[49m\u001b[43m)\u001b[49m)\u001b[38;5;241m.\u001b[39mT)\n",
      "File \u001b[0;32m<__array_function__ internals>:180\u001b[0m, in \u001b[0;36mdot\u001b[0;34m(*args, **kwargs)\u001b[0m\n",
      "\u001b[0;31mValueError\u001b[0m: shapes (5,3) and (10,) not aligned: 3 (dim 1) != 10 (dim 0)"
     ]
    }
   ],
   "source": [
    "%timeit make_random_network_small(10, 5, 20, 20)"
   ]
  },
  {
   "cell_type": "code",
   "execution_count": 120,
   "id": "590b877f",
   "metadata": {},
   "outputs": [
    {
     "ename": "ValueError",
     "evalue": "shapes (5,3) and (10,) not aligned: 3 (dim 1) != 10 (dim 0)",
     "output_type": "error",
     "traceback": [
      "\u001b[0;31m---------------------------------------------------------------------------\u001b[0m",
      "\u001b[0;31mValueError\u001b[0m                                Traceback (most recent call last)",
      "Cell \u001b[0;32mIn [120], line 1\u001b[0m\n\u001b[0;32m----> 1\u001b[0m a \u001b[38;5;241m=\u001b[39m \u001b[43mmake_random_network_small\u001b[49m\u001b[43m(\u001b[49m\u001b[38;5;241;43m10\u001b[39;49m\u001b[43m,\u001b[49m\u001b[43m \u001b[49m\u001b[38;5;241;43m5\u001b[39;49m\u001b[43m,\u001b[49m\u001b[43m \u001b[49m\u001b[38;5;241;43m20\u001b[39;49m\u001b[43m,\u001b[49m\u001b[43m \u001b[49m\u001b[38;5;241;43m20\u001b[39;49m\u001b[43m)\u001b[49m\n",
      "Cell \u001b[0;32mIn [115], line 5\u001b[0m, in \u001b[0;36mmake_random_network_small\u001b[0;34m(input_size, output_size, l1_size, l2_size)\u001b[0m\n\u001b[1;32m      1\u001b[0m \u001b[38;5;28;01mdef\u001b[39;00m \u001b[38;5;21mmake_random_network_small\u001b[39m(input_size, output_size, l1_size, l2_size):\n\u001b[0;32m----> 5\u001b[0m     \u001b[38;5;28;01mreturn\u001b[39;00m np\u001b[38;5;241m.\u001b[39mdot(np\u001b[38;5;241m.\u001b[39mrandom\u001b[38;5;241m.\u001b[39mrand(output_size, l2_size), np\u001b[38;5;241m.\u001b[39mdot(np\u001b[38;5;241m.\u001b[39mrandom\u001b[38;5;241m.\u001b[39mrand(l1_size, l2_size),\u001b[43mnp\u001b[49m\u001b[38;5;241;43m.\u001b[39;49m\u001b[43mdot\u001b[49m\u001b[43m(\u001b[49m\u001b[43mW1\u001b[49m\u001b[43m,\u001b[49m\u001b[43m \u001b[49m\u001b[43mnp\u001b[49m\u001b[38;5;241;43m.\u001b[39;49m\u001b[43mones\u001b[49m\u001b[43m(\u001b[49m\u001b[43minput_size\u001b[49m\u001b[43m)\u001b[49m\u001b[43m)\u001b[49m)\u001b[38;5;241m.\u001b[39mT)\n",
      "File \u001b[0;32m<__array_function__ internals>:180\u001b[0m, in \u001b[0;36mdot\u001b[0;34m(*args, **kwargs)\u001b[0m\n",
      "\u001b[0;31mValueError\u001b[0m: shapes (5,3) and (10,) not aligned: 3 (dim 1) != 10 (dim 0)"
     ]
    }
   ],
   "source": [
    "a = make_random_network_small(10, 5, 20, 20)"
   ]
  },
  {
   "cell_type": "code",
   "execution_count": 121,
   "id": "63f94bbe",
   "metadata": {},
   "outputs": [
    {
     "ename": "NameError",
     "evalue": "name 'a' is not defined",
     "output_type": "error",
     "traceback": [
      "\u001b[0;31m---------------------------------------------------------------------------\u001b[0m",
      "\u001b[0;31mNameError\u001b[0m                                 Traceback (most recent call last)",
      "Cell \u001b[0;32mIn [121], line 1\u001b[0m\n\u001b[0;32m----> 1\u001b[0m \u001b[43ma\u001b[49m\n",
      "\u001b[0;31mNameError\u001b[0m: name 'a' is not defined"
     ]
    }
   ],
   "source": [
    "a"
   ]
  },
  {
   "cell_type": "code",
   "execution_count": 576,
   "id": "0394e588",
   "metadata": {},
   "outputs": [
    {
     "data": {
      "text/plain": [
       "4"
      ]
     },
     "execution_count": 576,
     "metadata": {},
     "output_type": "execute_result"
    }
   ],
   "source": [
    "np.argmax(a)"
   ]
  },
  {
   "cell_type": "code",
   "execution_count": 100,
   "id": "2ac0e71b",
   "metadata": {},
   "outputs": [],
   "source": [
    "def compute_with_network(input_vec):\n",
    "    W1= np.random.rand(l1_size, input_size)\n",
    "    #print(W1)\n",
    "    A1 = np.ones(input_size) \n",
    "    \n",
    "\n",
    "    #A1 = np.transpose(A1)\n",
    "\n",
    "\n",
    "    A2 = np.dot(W1, A1)\n",
    "    \n",
    "    #print(A2)\n",
    "\n",
    "\n",
    "    W2= np.random.rand(l1_size, l2_size)\n",
    "    \n",
    "    A3 = np.dot(W2, A2)\n",
    "    \n",
    "    #print(A3)\n",
    "    A3 = np.transpose(A3)\n",
    "    \n",
    "    W4 = np.random.rand(output_size, l2_size)\n",
    "    #print(W4)\n",
    "    \n",
    "    A4 = np.dot(W4, A3)\n",
    "\n",
    "    \n",
    "    return A4\n",
    "    \n",
    "    return"
   ]
  },
  {
   "cell_type": "code",
   "execution_count": 538,
   "id": "48284dec",
   "metadata": {},
   "outputs": [
    {
     "name": "stdout",
     "output_type": "stream",
     "text": [
      "[[0.77183087 0.59402464 0.78661324 0.97421649 0.65652764 0.19561274\n",
      "  0.94952416 0.46678159 0.18905636 0.36967069]\n",
      " [0.85754719 0.33144397 0.98626674 0.75663431 0.82995079 0.17309453\n",
      "  0.11467669 0.71674521 0.70447331 0.33237173]\n",
      " [0.83328439 0.86687045 0.82151114 0.33606849 0.16228275 0.51280677\n",
      "  0.32375563 0.74858205 0.66751754 0.25714933]\n",
      " [0.08296367 0.54774709 0.5545812  0.69290566 0.81943598 0.30256611\n",
      "  0.99200159 0.08407227 0.58393669 0.19451464]\n",
      " [0.80970484 0.601297   0.77914294 0.07929682 0.04092336 0.31405185\n",
      "  0.13040744 0.8511211  0.10682464 0.80461632]\n",
      " [0.44292134 0.60150177 0.52805838 0.86006805 0.30424429 0.11514141\n",
      "  0.75930867 0.02421749 0.38197198 0.13213727]\n",
      " [0.97602831 0.18490333 0.85043164 0.09220375 0.8205864  0.42603212\n",
      "  0.05301285 0.95653059 0.51855002 0.09285863]\n",
      " [0.56664547 0.20394766 0.68798455 0.53482583 0.96700617 0.59675595\n",
      "  0.29843383 0.21016177 0.62046581 0.00746221]\n",
      " [0.10032379 0.12798917 0.2068268  0.4697648  0.33893121 0.67930511\n",
      "  0.61516526 0.38115493 0.68157501 0.30352101]\n",
      " [0.34408828 0.79770993 0.54833077 0.72300332 0.07663779 0.67294214\n",
      "  0.54294568 0.20745753 0.98910985 0.27977553]]\n",
      "[[0.84863875]\n",
      " [0.72343565]\n",
      " [0.85154327]\n",
      " [0.62811702]\n",
      " [0.32407342]]\n"
     ]
    },
    {
     "ename": "ValueError",
     "evalue": "shapes (10,) and (5,1) not aligned: 10 (dim 0) != 5 (dim 0)",
     "output_type": "error",
     "traceback": [
      "\u001b[0;31m---------------------------------------------------------------------------\u001b[0m",
      "\u001b[0;31mValueError\u001b[0m                                Traceback (most recent call last)",
      "Cell \u001b[0;32mIn [538], line 1\u001b[0m\n\u001b[0;32m----> 1\u001b[0m \u001b[43mmake_network\u001b[49m\u001b[43m(\u001b[49m\u001b[38;5;241;43m10\u001b[39;49m\u001b[43m,\u001b[49m\u001b[43m \u001b[49m\u001b[38;5;241;43m5\u001b[39;49m\u001b[43m,\u001b[49m\u001b[43m \u001b[49m\u001b[38;5;241;43m10\u001b[39;49m\u001b[43m,\u001b[49m\u001b[43m \u001b[49m\u001b[38;5;241;43m10\u001b[39;49m\u001b[43m)\u001b[49m\n",
      "Cell \u001b[0;32mIn [535], line 27\u001b[0m, in \u001b[0;36mmake_network\u001b[0;34m(input_size, output_size, l1_size, l2_size)\u001b[0m\n\u001b[1;32m     24\u001b[0m W4 \u001b[38;5;241m=\u001b[39m np\u001b[38;5;241m.\u001b[39mrandom\u001b[38;5;241m.\u001b[39mrand(output_size, \u001b[38;5;241m1\u001b[39m)\n\u001b[1;32m     25\u001b[0m \u001b[38;5;28mprint\u001b[39m(W4)\n\u001b[0;32m---> 27\u001b[0m A4 \u001b[38;5;241m=\u001b[39m \u001b[43mnp\u001b[49m\u001b[38;5;241;43m.\u001b[39;49m\u001b[43mdot\u001b[49m\u001b[43m(\u001b[49m\u001b[43mA3\u001b[49m\u001b[43m,\u001b[49m\u001b[43m \u001b[49m\u001b[43mW4\u001b[49m\u001b[43m)\u001b[49m\n\u001b[1;32m     30\u001b[0m \u001b[38;5;28;01mreturn\u001b[39;00m A3\u001b[38;5;241m.\u001b[39mT\n",
      "File \u001b[0;32m<__array_function__ internals>:180\u001b[0m, in \u001b[0;36mdot\u001b[0;34m(*args, **kwargs)\u001b[0m\n",
      "\u001b[0;31mValueError\u001b[0m: shapes (10,) and (5,1) not aligned: 10 (dim 0) != 5 (dim 0)"
     ]
    }
   ],
   "source": [
    "make_network(10, 5, 10, 10)"
   ]
  },
  {
   "cell_type": "code",
   "execution_count": null,
   "id": "e3e9e74e",
   "metadata": {},
   "outputs": [],
   "source": []
  },
  {
   "cell_type": "code",
   "execution_count": 336,
   "id": "6ff3fba7",
   "metadata": {},
   "outputs": [
    {
     "data": {
      "text/plain": [
       "array([8, 2, 5, 6, 2, 7, 1, 6, 1, 8, 3, 5, 8, 8, 8])"
      ]
     },
     "execution_count": 336,
     "metadata": {},
     "output_type": "execute_result"
    }
   ],
   "source": [
    "np.random.randint(1, 10, 5*3)"
   ]
  },
  {
   "cell_type": "code",
   "execution_count": 465,
   "id": "de2da0d1",
   "metadata": {},
   "outputs": [],
   "source": [
    "A1 = np.ones((10,3))\n"
   ]
  },
  {
   "cell_type": "code",
   "execution_count": 470,
   "id": "2d892655",
   "metadata": {},
   "outputs": [
    {
     "data": {
      "text/plain": [
       "array([[1., 2., 4.],\n",
       "       [1., 2., 4.],\n",
       "       [1., 2., 4.],\n",
       "       [1., 2., 4.],\n",
       "       [1., 2., 4.],\n",
       "       [1., 2., 4.],\n",
       "       [1., 2., 4.],\n",
       "       [1., 2., 4.],\n",
       "       [1., 2., 4.],\n",
       "       [1., 2., 4.]])"
      ]
     },
     "execution_count": 470,
     "metadata": {},
     "output_type": "execute_result"
    }
   ],
   "source": [
    "A1"
   ]
  },
  {
   "cell_type": "code",
   "execution_count": 471,
   "id": "76872bdf",
   "metadata": {},
   "outputs": [
    {
     "data": {
      "text/plain": [
       "array([3, 4, 7, 9, 5, 9, 3, 5, 4, 4, 4, 3, 5, 4, 1])"
      ]
     },
     "execution_count": 471,
     "metadata": {},
     "output_type": "execute_result"
    }
   ],
   "source": [
    "np.random.randint(1, 10, 5*3)"
   ]
  },
  {
   "cell_type": "code",
   "execution_count": 483,
   "id": "337c7684",
   "metadata": {},
   "outputs": [
    {
     "data": {
      "text/plain": [
       "array([[0.51370971, 0.90948363, 0.41883418],\n",
       "       [0.43227587, 0.11162216, 0.30380805],\n",
       "       [0.51401325, 0.81394195, 0.16803642],\n",
       "       [0.30545076, 0.24033835, 0.96775903],\n",
       "       [0.66621823, 0.55039517, 0.55221909],\n",
       "       [0.18848897, 0.26329438, 0.32870666],\n",
       "       [0.11709365, 0.41243415, 0.94530598],\n",
       "       [0.63720453, 0.43022341, 0.53999726],\n",
       "       [0.80278037, 0.47375854, 0.02570715],\n",
       "       [0.97028925, 0.60107935, 0.2470378 ]])"
      ]
     },
     "execution_count": 483,
     "metadata": {},
     "output_type": "execute_result"
    }
   ],
   "source": [
    "np.random.rand(10,3)"
   ]
  },
  {
   "cell_type": "code",
   "execution_count": 497,
   "id": "dec78c23",
   "metadata": {},
   "outputs": [
    {
     "data": {
      "text/plain": [
       "array([1., 1., 1., 1., 1., 1., 1., 1., 1., 1.])"
      ]
     },
     "execution_count": 497,
     "metadata": {},
     "output_type": "execute_result"
    }
   ],
   "source": [
    "np.ones(10).T"
   ]
  },
  {
   "cell_type": "code",
   "execution_count": null,
   "id": "e9b51197",
   "metadata": {},
   "outputs": [],
   "source": []
  },
  {
   "cell_type": "code",
   "execution_count": 502,
   "id": "439b7476",
   "metadata": {},
   "outputs": [
    {
     "data": {
      "text/plain": [
       "array([5.75619854, 3.94783845, 4.80853039, 3.41086745, 3.6592714 ,\n",
       "       4.54568645, 5.04672765, 6.38391684, 4.32827307, 4.82803777,\n",
       "       5.11993455, 5.55113295, 4.73328353, 5.94769267, 5.83307614])"
      ]
     },
     "execution_count": 502,
     "metadata": {},
     "output_type": "execute_result"
    }
   ],
   "source": [
    "np.dot(np.ones(10), np.random.rand(10,15))"
   ]
  },
  {
   "cell_type": "code",
   "execution_count": 487,
   "id": "20e899ee",
   "metadata": {},
   "outputs": [
    {
     "data": {
      "text/plain": [
       "array([[0.29831753, 0.76290367, 0.58515777],\n",
       "       [0.31745087, 0.61748099, 0.43008389],\n",
       "       [0.55447112, 0.91060013, 0.44520124],\n",
       "       [0.85601446, 0.70444177, 0.27960266],\n",
       "       [0.56932825, 0.58457714, 0.76998418]])"
      ]
     },
     "execution_count": 487,
     "metadata": {},
     "output_type": "execute_result"
    }
   ],
   "source": [
    "np.random.rand(5,3)"
   ]
  },
  {
   "cell_type": "code",
   "execution_count": 467,
   "id": "2bf2702f",
   "metadata": {},
   "outputs": [],
   "source": [
    "A1[:,1] *= 2\n"
   ]
  },
  {
   "cell_type": "code",
   "execution_count": 469,
   "id": "50b2b078",
   "metadata": {},
   "outputs": [],
   "source": [
    "A1[:,2] *= 4"
   ]
  },
  {
   "cell_type": "code",
   "execution_count": 107,
   "id": "6d52030c",
   "metadata": {},
   "outputs": [
    {
     "name": "stdout",
     "output_type": "stream",
     "text": [
      "\n",
      "Matrix of input vectors to layer L1:\n",
      "\n",
      "[[1. 2. 4.]\n",
      " [1. 2. 4.]\n",
      " [1. 2. 4.]\n",
      " [1. 2. 4.]\n",
      " [1. 2. 4.]\n",
      " [1. 2. 4.]\n",
      " [1. 2. 4.]\n",
      " [1. 2. 4.]\n",
      " [1. 2. 4.]\n",
      " [1. 2. 4.]]\n",
      "\n",
      "Matrix of weights W1(L1, L2) :\n",
      "\n",
      "[[9 8 1]\n",
      " [2 9 8]\n",
      " [5 2 7]\n",
      " [5 8 4]\n",
      " [2 2 6]]\n",
      "\n",
      "Matrix of output vectors of layer L1 to layer L2:\n",
      "\n",
      "[[1. 1. 1. 1. 1. 1. 1. 1. 1. 1.]\n",
      " [2. 2. 2. 2. 2. 2. 2. 2. 2. 2.]\n",
      " [4. 4. 4. 4. 4. 4. 4. 4. 4. 4.]]\n",
      "\n",
      "\n",
      "A2:\n",
      "\n",
      "[[29. 29. 29. 29. 29. 29. 29. 29. 29. 29.]\n",
      " [52. 52. 52. 52. 52. 52. 52. 52. 52. 52.]\n",
      " [37. 37. 37. 37. 37. 37. 37. 37. 37. 37.]\n",
      " [37. 37. 37. 37. 37. 37. 37. 37. 37. 37.]\n",
      " [30. 30. 30. 30. 30. 30. 30. 30. 30. 30.]]\n",
      "\n",
      "\n",
      "W2:\n",
      "\n",
      "[[1 1 2 1 2]\n",
      " [2 1 1 1 1]]\n",
      "\n",
      "\n",
      "A3:\n",
      "\n",
      "[[252. 252. 252. 252. 252. 252. 252. 252. 252. 252.]\n",
      " [214. 214. 214. 214. 214. 214. 214. 214. 214. 214.]]\n"
     ]
    }
   ],
   "source": [
    "import numpy as np\n",
    "import scipy\n",
    "import time \n",
    "\n",
    "A1 = np.ones((10,3))\n",
    "A1[:,1] *= 2\n",
    "A1[:,2] *= 4\n",
    "print(\"\\nMatrix of input vectors to layer L1:\\n\")\n",
    "print(A1)\n",
    "\n",
    "\n",
    "W1= np.random.randint(1, 10, 5*3)\n",
    "W1 = W1.reshape(5,3)\n",
    "print(\"\\nMatrix of weights W1(L1, L2) :\\n\")\n",
    "print(W1)\n",
    "\n",
    "A1 = np.transpose(A1)\n",
    "print(\"\\nMatrix of output vectors of layer L1 to layer L2:\\n\")\n",
    "print(A1)\n",
    "\n",
    "A2 = np.dot(W1, A1)\n",
    "print(\"\\n\\nA2:\\n\")\n",
    "print(A2)\n",
    "\n",
    "W2= np.random.randint(1, 3, 2*5)\n",
    "W2 = W2.reshape(2,5)\n",
    "print(\"\\n\\nW2:\\n\")\n",
    "print(W2)\n",
    "\n",
    "A3 = np.dot(W2, A2)\n",
    "print(\"\\n\\nA3:\\n\")\n",
    "print(A3)"
   ]
  },
  {
   "cell_type": "code",
   "execution_count": 488,
   "id": "fbfecf2e",
   "metadata": {},
   "outputs": [
    {
     "name": "stdout",
     "output_type": "stream",
     "text": [
      "\n",
      "Matrix of input vectors to layer L1:\n",
      "\n",
      "[[1. 2. 4.]\n",
      " [1. 2. 4.]\n",
      " [1. 2. 4.]\n",
      " [1. 2. 4.]\n",
      " [1. 2. 4.]\n",
      " [1. 2. 4.]\n",
      " [1. 2. 4.]\n",
      " [1. 2. 4.]\n",
      " [1. 2. 4.]\n",
      " [1. 2. 4.]]\n"
     ]
    }
   ],
   "source": [
    "A1 = np.ones((10,3))\n",
    "A1[:,1] *= 2\n",
    "A1[:,2] *= 4\n",
    "print(\"\\nMatrix of input vectors to layer L1:\\n\")\n",
    "print(A1)\n"
   ]
  },
  {
   "cell_type": "code",
   "execution_count": 489,
   "id": "8fe6ab8b",
   "metadata": {},
   "outputs": [
    {
     "data": {
      "text/plain": [
       "array([[1., 1., 1., 1., 1., 1., 1., 1., 1., 1.],\n",
       "       [2., 2., 2., 2., 2., 2., 2., 2., 2., 2.],\n",
       "       [4., 4., 4., 4., 4., 4., 4., 4., 4., 4.]])"
      ]
     },
     "execution_count": 489,
     "metadata": {},
     "output_type": "execute_result"
    }
   ],
   "source": [
    "A1.T"
   ]
  },
  {
   "cell_type": "code",
   "execution_count": 494,
   "id": "36e55be2",
   "metadata": {},
   "outputs": [
    {
     "data": {
      "text/plain": [
       "array([6.34032506, 4.49948732, 4.19791387])"
      ]
     },
     "execution_count": 494,
     "metadata": {},
     "output_type": "execute_result"
    }
   ],
   "source": [
    "np.dot(np.ones(10).T, np.random.rand(10,3))"
   ]
  },
  {
   "cell_type": "code",
   "execution_count": null,
   "id": "d673ff04",
   "metadata": {},
   "outputs": [],
   "source": [
    "np.dot(np.dot(np.ones(10).T, np.random.rand(10,3))"
   ]
  },
  {
   "cell_type": "code",
   "execution_count": 109,
   "id": "65997c8c",
   "metadata": {},
   "outputs": [],
   "source": [
    "def test_network():\n",
    "    A1 = np.ones((10,3))\n",
    "    A1[:,1] *= 2\n",
    "    A1[:,2] *= 4\n",
    "\n",
    "\n",
    "\n",
    "    W1= np.random.randint(1, 10, 5*3)\n",
    "    W1 = W1.reshape(5,3)\n",
    "\n",
    "    A1 = np.transpose(A1)\n",
    "\n",
    "    A2 = np.dot(W1, A1)\n",
    "    \n",
    "\n",
    "    W2= np.random.randint(1, 3, 2*5)\n",
    "    W2 = W2.reshape(2,5)\n",
    "\n",
    "\n",
    "    A3 = np.dot(W2, A2)\n",
    "    \n",
    "    return A3"
   ]
  },
  {
   "cell_type": "code",
   "execution_count": 146,
   "id": "f6e0f177",
   "metadata": {},
   "outputs": [],
   "source": [
    "A1 = np.random.uniform(low=-1, high=1.0, size=(10,3))\n",
    "A1[:,1] *= 2\n",
    "A1[:,2] *= 4\n",
    "\n",
    "\n",
    "\n",
    "W1= np.random.uniform(low=-1, high=1.0, size=(5,3))\n",
    "W1 = W1.reshape(5,3)\n",
    "\n",
    "A1 = np.transpose(A1)\n",
    "\n",
    "A2 = np.dot(W1, A1)\n",
    "\n",
    "\n",
    "W2= np.random.uniform(low=-1, high=1.0, size=(1,5))\n",
    "W2 = W2.reshape(1,5)\n",
    "\n",
    "\n",
    "A3 = np.dot(W2, A2)\n",
    "    \n"
   ]
  },
  {
   "cell_type": "code",
   "execution_count": 229,
   "id": "c1febb84",
   "metadata": {},
   "outputs": [],
   "source": [
    "p = np.random.randint(3, size=10)"
   ]
  },
  {
   "cell_type": "code",
   "execution_count": 230,
   "id": "887c4913",
   "metadata": {},
   "outputs": [
    {
     "data": {
      "text/plain": [
       "array([2, 0, 1, 2, 0, 0, 1, 2, 2, 1])"
      ]
     },
     "execution_count": 230,
     "metadata": {},
     "output_type": "execute_result"
    }
   ],
   "source": [
    "p"
   ]
  },
  {
   "cell_type": "code",
   "execution_count": 231,
   "id": "4ad0ce9f",
   "metadata": {},
   "outputs": [],
   "source": [
    "unique, counts = np.unique(p, return_counts=True)"
   ]
  },
  {
   "cell_type": "code",
   "execution_count": 232,
   "id": "b7a6c826",
   "metadata": {},
   "outputs": [
    {
     "data": {
      "text/plain": [
       "array([0, 1, 2])"
      ]
     },
     "execution_count": 232,
     "metadata": {},
     "output_type": "execute_result"
    }
   ],
   "source": [
    "unique"
   ]
  },
  {
   "cell_type": "code",
   "execution_count": 233,
   "id": "4b84af04",
   "metadata": {},
   "outputs": [
    {
     "data": {
      "text/plain": [
       "array([3, 3, 4])"
      ]
     },
     "execution_count": 233,
     "metadata": {},
     "output_type": "execute_result"
    }
   ],
   "source": [
    "counts"
   ]
  },
  {
   "cell_type": "code",
   "execution_count": 221,
   "id": "31ba5379",
   "metadata": {},
   "outputs": [
    {
     "data": {
      "text/plain": [
       "5"
      ]
     },
     "execution_count": 221,
     "metadata": {},
     "output_type": "execute_result"
    }
   ],
   "source": [
    "W1.shape[0]"
   ]
  },
  {
   "cell_type": "code",
   "execution_count": 264,
   "id": "ddaa1361",
   "metadata": {},
   "outputs": [],
   "source": [
    "W3 = W2.copy()"
   ]
  },
  {
   "cell_type": "code",
   "execution_count": 265,
   "id": "2c180c26",
   "metadata": {},
   "outputs": [],
   "source": [
    "flat_array = np.concatenate((W1.flatten(), W2.flatten(), W3.flatten()))"
   ]
  },
  {
   "cell_type": "code",
   "execution_count": 266,
   "id": "dba83066",
   "metadata": {},
   "outputs": [
    {
     "data": {
      "text/plain": [
       "array([ 0.61750399,  0.3485713 ,  0.77344999, -0.14880443, -0.80329446,\n",
       "        0.03886614,  0.93727525, -0.85792288,  0.1033162 , -0.20455788,\n",
       "       -0.4661021 , -0.28358002,  0.84611301,  0.88009642, -0.19023364,\n",
       "        0.71757038,  0.66268017, -0.38257099, -0.35203471,  0.43853645,\n",
       "        0.71757038,  0.66268017, -0.38257099, -0.35203471,  0.43853645])"
      ]
     },
     "execution_count": 266,
     "metadata": {},
     "output_type": "execute_result"
    }
   ],
   "source": [
    "flat_array"
   ]
  },
  {
   "cell_type": "code",
   "execution_count": 267,
   "id": "57d534d1",
   "metadata": {},
   "outputs": [],
   "source": [
    "mutation_idx = np.random.randint(len(flat_array), size=10)"
   ]
  },
  {
   "cell_type": "code",
   "execution_count": 268,
   "id": "7d540280",
   "metadata": {},
   "outputs": [
    {
     "data": {
      "text/plain": [
       "array([22, 14, 11, 18, 20, 14, 12,  5,  7, 17])"
      ]
     },
     "execution_count": 268,
     "metadata": {},
     "output_type": "execute_result"
    }
   ],
   "source": [
    "mutation_idx"
   ]
  },
  {
   "cell_type": "code",
   "execution_count": 269,
   "id": "d93aded6",
   "metadata": {},
   "outputs": [
    {
     "data": {
      "text/plain": [
       "array([-0.38257099, -0.19023364, -0.28358002, -0.35203471,  0.71757038,\n",
       "       -0.19023364,  0.84611301,  0.03886614, -0.85792288, -0.38257099])"
      ]
     },
     "execution_count": 269,
     "metadata": {},
     "output_type": "execute_result"
    }
   ],
   "source": [
    "flat_array[mutation_idx]"
   ]
  },
  {
   "cell_type": "code",
   "execution_count": 275,
   "id": "4a0bfa81",
   "metadata": {},
   "outputs": [
    {
     "data": {
      "text/plain": [
       "0"
      ]
     },
     "execution_count": 275,
     "metadata": {},
     "output_type": "execute_result"
    }
   ],
   "source": [
    "4%1"
   ]
  },
  {
   "cell_type": "code",
   "execution_count": null,
   "id": "fe4c4af9",
   "metadata": {},
   "outputs": [],
   "source": []
  },
  {
   "cell_type": "code",
   "execution_count": 270,
   "id": "374f344b",
   "metadata": {},
   "outputs": [],
   "source": [
    "flat_array[mutation_idx] = np.random.uniform(low=-1, high=1.0, size=len(mutation_idx))"
   ]
  },
  {
   "cell_type": "code",
   "execution_count": 271,
   "id": "922a9ee7",
   "metadata": {},
   "outputs": [
    {
     "data": {
      "text/plain": [
       "array([-0.67937218,  0.29410064, -0.21385592,  0.33435224,  0.57299464,\n",
       "        0.29410064,  0.2865971 ,  0.09830684,  0.80233783, -0.23506856])"
      ]
     },
     "execution_count": 271,
     "metadata": {},
     "output_type": "execute_result"
    }
   ],
   "source": [
    "flat_array[mutation_idx]"
   ]
  },
  {
   "cell_type": "code",
   "execution_count": 272,
   "id": "902558d8",
   "metadata": {},
   "outputs": [
    {
     "data": {
      "text/plain": [
       "array([0.73820559, 0.69618188, 0.65959939, 0.93279546, 0.54112422,\n",
       "       0.98139208, 0.21166778, 0.10370074, 0.01355983, 0.34272486])"
      ]
     },
     "execution_count": 272,
     "metadata": {},
     "output_type": "execute_result"
    }
   ],
   "source": [
    "np.random.rand(len(mutation_idx))"
   ]
  },
  {
   "cell_type": "code",
   "execution_count": 273,
   "id": "2decfd72",
   "metadata": {},
   "outputs": [
    {
     "data": {
      "text/plain": [
       "array([ 0.88867382, -0.5841971 , -0.5866945 ,  0.95575292, -0.15165598,\n",
       "       -0.62025327, -0.63760446,  0.58250257,  0.70380314, -0.68961407])"
      ]
     },
     "execution_count": 273,
     "metadata": {},
     "output_type": "execute_result"
    }
   ],
   "source": [
    "np.random.uniform(low=-1, high=1.0, size=len(mutation_idx))"
   ]
  },
  {
   "cell_type": "code",
   "execution_count": 242,
   "id": "3d3048f4",
   "metadata": {},
   "outputs": [
    {
     "data": {
      "text/plain": [
       "array([[ True,  True,  True],\n",
       "       [ True,  True,  True],\n",
       "       [ True,  True,  True],\n",
       "       [ True,  True,  True],\n",
       "       [ True,  True,  True]])"
      ]
     },
     "execution_count": 242,
     "metadata": {},
     "output_type": "execute_result"
    }
   ],
   "source": [
    "W1 == flat_array[:W1.shape[0]*W1.shape[1]].reshape(W1.shape[0], W1.shape[1])"
   ]
  },
  {
   "cell_type": "code",
   "execution_count": 220,
   "id": "d1f22aa9",
   "metadata": {},
   "outputs": [
    {
     "data": {
      "text/plain": [
       "array([[ True,  True,  True],\n",
       "       [ True,  True,  True],\n",
       "       [ True,  True,  True],\n",
       "       [ True,  True,  True],\n",
       "       [ True,  True,  True]])"
      ]
     },
     "execution_count": 220,
     "metadata": {},
     "output_type": "execute_result"
    }
   ],
   "source": [
    "W1 == W1.flatten().reshape(5,3)"
   ]
  },
  {
   "cell_type": "code",
   "execution_count": null,
   "id": "c0c8b101",
   "metadata": {},
   "outputs": [],
   "source": []
  },
  {
   "cell_type": "code",
   "execution_count": 167,
   "id": "c9d082d6",
   "metadata": {},
   "outputs": [],
   "source": [
    "class soap:\n",
    "    def __init__(self, soap_level):\n",
    "        self.soap_level = 5"
   ]
  },
  {
   "cell_type": "code",
   "execution_count": 169,
   "id": "8272e7d3",
   "metadata": {},
   "outputs": [],
   "source": [
    "soaps = [soap(soap_level=5), soap(soap_level=6), soap(soap_level=7), soap(soap_level=8)]"
   ]
  },
  {
   "cell_type": "code",
   "execution_count": 172,
   "id": "531fdcc9",
   "metadata": {},
   "outputs": [
    {
     "data": {
      "text/plain": [
       "array([<__main__.soap object at 0x12e22e1d0>,\n",
       "       <__main__.soap object at 0x12e22e1d0>,\n",
       "       <__main__.soap object at 0x12e22e1d0>,\n",
       "       <__main__.soap object at 0x12e22e3e0>,\n",
       "       <__main__.soap object at 0x12e22e1a0>,\n",
       "       <__main__.soap object at 0x12e22d720>,\n",
       "       <__main__.soap object at 0x12e22d720>], dtype=object)"
      ]
     },
     "execution_count": 172,
     "metadata": {},
     "output_type": "execute_result"
    }
   ],
   "source": [
    "np.random.choice(soaps, 7)"
   ]
  },
  {
   "cell_type": "code",
   "execution_count": 211,
   "id": "c9f6686b",
   "metadata": {},
   "outputs": [],
   "source": [
    "a = np.random.randint(W1.shape[0], size=40)"
   ]
  },
  {
   "cell_type": "code",
   "execution_count": 212,
   "id": "e52f458a",
   "metadata": {},
   "outputs": [],
   "source": [
    "b = np.random.randint(W1.shape[1], size=40)"
   ]
  },
  {
   "cell_type": "code",
   "execution_count": 213,
   "id": "08af2f33",
   "metadata": {},
   "outputs": [
    {
     "data": {
      "text/plain": [
       "array([3, 0, 2, 2, 3, 2, 3, 0, 3, 4, 0, 4, 4, 1, 1, 4, 3, 1, 2, 4, 3, 2,\n",
       "       3, 0, 2, 3, 1, 3, 2, 4, 2, 0, 4, 2, 3, 0, 0, 4, 4, 3])"
      ]
     },
     "execution_count": 213,
     "metadata": {},
     "output_type": "execute_result"
    }
   ],
   "source": [
    "a"
   ]
  },
  {
   "cell_type": "code",
   "execution_count": 214,
   "id": "2d9efa7a",
   "metadata": {},
   "outputs": [
    {
     "data": {
      "text/plain": [
       "array([0, 2, 0, 0, 2, 0, 1, 1, 0, 2, 1, 1, 1, 2, 1, 1, 0, 2, 1, 1, 0, 1,\n",
       "       0, 2, 2, 1, 2, 0, 2, 0, 0, 2, 1, 2, 2, 2, 2, 2, 1, 2])"
      ]
     },
     "execution_count": 214,
     "metadata": {},
     "output_type": "execute_result"
    }
   ],
   "source": [
    "b"
   ]
  },
  {
   "cell_type": "code",
   "execution_count": 215,
   "id": "0ec82615",
   "metadata": {},
   "outputs": [],
   "source": [
    "w1_idx = list(zip(a, b))"
   ]
  },
  {
   "cell_type": "code",
   "execution_count": null,
   "id": "e606ed61",
   "metadata": {},
   "outputs": [],
   "source": []
  },
  {
   "cell_type": "code",
   "execution_count": 216,
   "id": "8d4fed60",
   "metadata": {},
   "outputs": [
    {
     "name": "stdout",
     "output_type": "stream",
     "text": [
      "-0.20455788132149477\n",
      "0.7734499917119366\n",
      "0.9372752507241975\n",
      "0.9372752507241975\n",
      "-0.28358002027054563\n",
      "0.9372752507241975\n",
      "-0.46610209993687546\n",
      "0.34857129675069687\n",
      "-0.20455788132149477\n",
      "-0.1902336385953851\n",
      "0.34857129675069687\n",
      "0.8800964225984078\n",
      "0.8800964225984078\n",
      "0.03886613536838812\n",
      "-0.803294457409389\n",
      "0.8800964225984078\n",
      "-0.20455788132149477\n",
      "0.03886613536838812\n",
      "-0.8579228848694802\n",
      "0.8800964225984078\n",
      "-0.20455788132149477\n",
      "-0.8579228848694802\n",
      "-0.20455788132149477\n",
      "0.7734499917119366\n",
      "0.10331620291131927\n",
      "-0.46610209993687546\n",
      "0.03886613536838812\n",
      "-0.20455788132149477\n",
      "0.10331620291131927\n",
      "0.8461130066913558\n",
      "0.9372752507241975\n",
      "0.7734499917119366\n",
      "0.8800964225984078\n",
      "0.10331620291131927\n",
      "-0.28358002027054563\n",
      "0.7734499917119366\n",
      "0.7734499917119366\n",
      "-0.1902336385953851\n",
      "0.8800964225984078\n",
      "-0.28358002027054563\n"
     ]
    }
   ],
   "source": [
    "for i in range(len(w1_idx)):\n",
    "    print(W1[w1_idx[i][0]][w1_idx[i][1]])"
   ]
  },
  {
   "cell_type": "code",
   "execution_count": 175,
   "id": "6b780776",
   "metadata": {},
   "outputs": [
    {
     "ename": "NameError",
     "evalue": "name 'W3' is not defined",
     "output_type": "error",
     "traceback": [
      "\u001b[0;31m---------------------------------------------------------------------------\u001b[0m",
      "\u001b[0;31mNameError\u001b[0m                                 Traceback (most recent call last)",
      "Cell \u001b[0;32mIn [175], line 1\u001b[0m\n\u001b[0;32m----> 1\u001b[0m \u001b[43mW3\u001b[49m\u001b[38;5;241m.\u001b[39mshape\n",
      "\u001b[0;31mNameError\u001b[0m: name 'W3' is not defined"
     ]
    }
   ],
   "source": [
    "W3.shape"
   ]
  },
  {
   "cell_type": "code",
   "execution_count": null,
   "id": "1c9007e8",
   "metadata": {},
   "outputs": [],
   "source": [
    "W1.shape["
   ]
  },
  {
   "cell_type": "code",
   "execution_count": 165,
   "id": "10530cac",
   "metadata": {},
   "outputs": [
    {
     "data": {
      "text/plain": [
       "array([3, 0])"
      ]
     },
     "execution_count": 165,
     "metadata": {},
     "output_type": "execute_result"
    }
   ],
   "source": [
    "np.random.choice(W1.shape[0], 2, replace=False) "
   ]
  },
  {
   "cell_type": "code",
   "execution_count": 162,
   "id": "3b42b4f3",
   "metadata": {},
   "outputs": [],
   "source": [
    "index = np.random.choice(W1.shape[0], 2) "
   ]
  },
  {
   "cell_type": "code",
   "execution_count": 159,
   "id": "a80d7375",
   "metadata": {},
   "outputs": [
    {
     "data": {
      "text/plain": [
       "0"
      ]
     },
     "execution_count": 159,
     "metadata": {},
     "output_type": "execute_result"
    }
   ],
   "source": [
    "np.random.choice(W1.shape[0]) "
   ]
  },
  {
   "cell_type": "code",
   "execution_count": 154,
   "id": "1c963b54",
   "metadata": {},
   "outputs": [
    {
     "data": {
      "text/plain": [
       "5"
      ]
     },
     "execution_count": 154,
     "metadata": {},
     "output_type": "execute_result"
    }
   ],
   "source": [
    "W1.shape[0]"
   ]
  },
  {
   "cell_type": "code",
   "execution_count": 136,
   "id": "a812b5b0",
   "metadata": {},
   "outputs": [],
   "source": [
    "an_arr = np.array([1,2,3,4,5\n",
    "                  ])"
   ]
  },
  {
   "cell_type": "code",
   "execution_count": 141,
   "id": "d1558d8e",
   "metadata": {},
   "outputs": [
    {
     "data": {
      "text/plain": [
       "array([4, 3, 2])"
      ]
     },
     "execution_count": 141,
     "metadata": {},
     "output_type": "execute_result"
    }
   ],
   "source": [
    "np.argsort(an_arr)[::-1][:3]"
   ]
  },
  {
   "cell_type": "code",
   "execution_count": 144,
   "id": "897f0741",
   "metadata": {},
   "outputs": [],
   "source": [
    "a = np.array([1,2,3,4,5,6,7,8])"
   ]
  },
  {
   "cell_type": "code",
   "execution_count": 145,
   "id": "d7ccc427",
   "metadata": {},
   "outputs": [
    {
     "data": {
      "text/plain": [
       "array([2, 3, 4])"
      ]
     },
     "execution_count": 145,
     "metadata": {},
     "output_type": "execute_result"
    }
   ],
   "source": [
    "a[[1,2,3]]"
   ]
  },
  {
   "cell_type": "code",
   "execution_count": 130,
   "id": "33006699",
   "metadata": {},
   "outputs": [
    {
     "data": {
      "text/plain": [
       "array([[-0.11761625,  0.79667003, -0.62518905, -0.25160083, -0.00762503,\n",
       "         0.75135357, -0.89518401,  0.11296959, -0.45857647, -0.54013039]])"
      ]
     },
     "execution_count": 130,
     "metadata": {},
     "output_type": "execute_result"
    }
   ],
   "source": [
    "A3\n"
   ]
  },
  {
   "cell_type": "code",
   "execution_count": 133,
   "id": "0086a196",
   "metadata": {},
   "outputs": [
    {
     "data": {
      "text/plain": [
       "array([[0.11722589, 0.        , 0.70400866, 0.        , 0.        ,\n",
       "        0.        , 0.85345778, 0.        , 0.34720752, 0.37352616],\n",
       "       [0.        , 0.        , 0.94108728, 0.        , 0.        ,\n",
       "        0.        , 0.        , 1.53928939, 1.58862771, 0.        ],\n",
       "       [0.        , 0.        , 1.89197691, 2.89631387, 1.35740906,\n",
       "        0.        , 1.15660262, 1.74771684, 3.16556787, 0.        ]])"
      ]
     },
     "execution_count": 133,
     "metadata": {},
     "output_type": "execute_result"
    }
   ],
   "source": [
    "ReLU(A1)"
   ]
  },
  {
   "cell_type": "code",
   "execution_count": 134,
   "id": "0e229e8f",
   "metadata": {},
   "outputs": [
    {
     "data": {
      "text/plain": [
       "array([[ 0.11722589, -0.40056255,  0.70400866, -0.65511252, -0.40478814,\n",
       "        -0.10924782,  0.85345778, -0.08215244,  0.34720752,  0.37352616],\n",
       "       [-1.76398705, -0.92277452,  0.94108728, -0.5122775 , -0.08152623,\n",
       "        -0.28663283, -0.24688744,  1.53928939,  1.58862771, -1.72402436],\n",
       "       [-2.14356507, -3.79705668,  1.89197691,  2.89631387,  1.35740906,\n",
       "        -3.75962353,  1.15660262,  1.74771684,  3.16556787, -0.87551438]])"
      ]
     },
     "execution_count": 134,
     "metadata": {},
     "output_type": "execute_result"
    }
   ],
   "source": [
    "A1"
   ]
  },
  {
   "cell_type": "code",
   "execution_count": 132,
   "id": "7829e2b3",
   "metadata": {},
   "outputs": [],
   "source": [
    "def ReLU(x):\n",
    "    return np.maximum(0,x)\n",
    "\n",
    "def dReLU(self,x):\n",
    "    return 1 * (x > 0) \n",
    "\n",
    "def softmax(self, z):\n",
    "    z = z - np.max(z, axis = 1).reshape(z.shape[0],1)\n",
    "    return np.exp(z) / np.sum(np.exp(z), axis = 1).reshape(z.shape[0],1)"
   ]
  },
  {
   "cell_type": "code",
   "execution_count": null,
   "id": "c7e476b2",
   "metadata": {},
   "outputs": [],
   "source": [
    "def feedforward(self):\n",
    "    assert self.x.shape[1] == self.W1.shape[0]\n",
    "    self.z1 = self.x.dot(self.W1) + self.b1\n",
    "    self.a1 = self.ReLU(self.z1)\n",
    "\n",
    "    assert self.a1.shape[1] == self.W2.shape[0]\n",
    "    self.z2 = self.a1.dot(self.W2) + self.b2\n",
    "    self.a2 = self.ReLU(self.z2)\n",
    "\n",
    "    assert self.a2.shape[1] == self.W3.shape[0]\n",
    "    self.z3 = self.a2.dot(self.W3) + self.b3\n",
    "    self.a3 = self.softmax(self.z3)"
   ]
  },
  {
   "cell_type": "code",
   "execution_count": 110,
   "id": "1c4ce350",
   "metadata": {},
   "outputs": [
    {
     "data": {
      "text/plain": [
       "array([[216., 216., 216., 216., 216., 216., 216., 216., 216., 216.],\n",
       "       [207., 207., 207., 207., 207., 207., 207., 207., 207., 207.]])"
      ]
     },
     "execution_count": 110,
     "metadata": {},
     "output_type": "execute_result"
    }
   ],
   "source": [
    "test_network()"
   ]
  },
  {
   "cell_type": "code",
   "execution_count": 449,
   "id": "e06f9d54",
   "metadata": {},
   "outputs": [
    {
     "name": "stdout",
     "output_type": "stream",
     "text": [
      "41.9 µs ± 652 ns per loop (mean ± std. dev. of 7 runs, 10,000 loops each)\n"
     ]
    }
   ],
   "source": [
    "%timeit test_network()"
   ]
  },
  {
   "cell_type": "code",
   "execution_count": 255,
   "id": "d22f95e0",
   "metadata": {},
   "outputs": [],
   "source": [
    "#ex_indices = np.random.randint(0, area_size, size=10)"
   ]
  },
  {
   "cell_type": "code",
   "execution_count": 260,
   "id": "44a7e153",
   "metadata": {},
   "outputs": [
    {
     "data": {
      "text/plain": [
       "array([ 82.,  95., 136.,  36., 153.,  93., 103.,  36.,  66.,  61., 119.,\n",
       "        90.,  98.,  32.,  45., 143., 102.,  74., 155.,  75.,  42., 112.,\n",
       "       166.,  46., 123., 108.,  94.,  50., 130.,  15., 101., 104.,  92.,\n",
       "       126., 115., 104.,  61.,  68.,  55., 136.,  56., 151., 153.,  94.,\n",
       "        39., 130.,  85.,  83.,  98.,  87., 159., 124.,  62.,  41., 120.,\n",
       "       155., 133., 112., 123.,  82.,  54., 152., 138., 155.,  43.,  97.,\n",
       "        63.,  18., 115.,  77., 166., 114., 155., 122., 135.,  80., 100.,\n",
       "       112.,  53.,  92., 102.,  87.,  71., 107., 111.,  26., 114.,  51.,\n",
       "        45., 102.,  42., 105.,  56., 104.,  78., 176., 109., 103.,  76.,\n",
       "        48.])"
      ]
     },
     "execution_count": 260,
     "metadata": {},
     "output_type": "execute_result"
    }
   ],
   "source": [
    "idx"
   ]
  },
  {
   "cell_type": "code",
   "execution_count": null,
   "id": "a417c9b2",
   "metadata": {},
   "outputs": [],
   "source": []
  },
  {
   "cell_type": "code",
   "execution_count": null,
   "id": "870b55c2",
   "metadata": {},
   "outputs": [],
   "source": []
  },
  {
   "cell_type": "code",
   "execution_count": null,
   "id": "10ab8b75",
   "metadata": {},
   "outputs": [],
   "source": []
  },
  {
   "cell_type": "code",
   "execution_count": 213,
   "id": "f332c3f1",
   "metadata": {},
   "outputs": [
    {
     "data": {
      "text/plain": [
       "array([3.443e+03, 3.000e+02, 2.000e+00])"
      ]
     },
     "execution_count": 213,
     "metadata": {},
     "output_type": "execute_result"
    }
   ],
   "source": [
    "convert2(example_snake)"
   ]
  },
  {
   "cell_type": "code",
   "execution_count": 205,
   "id": "2d220c68",
   "metadata": {},
   "outputs": [
    {
     "data": {
      "text/plain": [
       "7.0"
      ]
     },
     "execution_count": 205,
     "metadata": {},
     "output_type": "execute_result"
    }
   ],
   "source": [
    "gen_snake(10)[0][1]"
   ]
  },
  {
   "cell_type": "code",
   "execution_count": 198,
   "id": "cca4e42a",
   "metadata": {},
   "outputs": [
    {
     "data": {
      "text/plain": [
       "<function __main__.convert2(array)>"
      ]
     },
     "execution_count": 198,
     "metadata": {},
     "output_type": "execute_result"
    }
   ],
   "source": [
    "convert2"
   ]
  },
  {
   "cell_type": "code",
   "execution_count": 203,
   "id": "e88b10af",
   "metadata": {},
   "outputs": [
    {
     "ename": "IndexError",
     "evalue": "invalid index to scalar variable.",
     "output_type": "error",
     "traceback": [
      "\u001b[0;31m---------------------------------------------------------------------------\u001b[0m",
      "\u001b[0;31mIndexError\u001b[0m                                Traceback (most recent call last)",
      "Cell \u001b[0;32mIn [203], line 1\u001b[0m\n\u001b[0;32m----> 1\u001b[0m \u001b[43mnp_convert2\u001b[49m\u001b[43m(\u001b[49m\u001b[43mgen_snake\u001b[49m\u001b[43m(\u001b[49m\u001b[38;5;241;43m100\u001b[39;49m\u001b[43m)\u001b[49m\u001b[43m)\u001b[49m\n",
      "File \u001b[0;32m~/.pyenv/versions/3.10.3/envs/neural-snake-env/lib/python3.10/site-packages/numpy/lib/function_base.py:2328\u001b[0m, in \u001b[0;36mvectorize.__call__\u001b[0;34m(self, *args, **kwargs)\u001b[0m\n\u001b[1;32m   2325\u001b[0m     vargs \u001b[38;5;241m=\u001b[39m [args[_i] \u001b[38;5;28;01mfor\u001b[39;00m _i \u001b[38;5;129;01min\u001b[39;00m inds]\n\u001b[1;32m   2326\u001b[0m     vargs\u001b[38;5;241m.\u001b[39mextend([kwargs[_n] \u001b[38;5;28;01mfor\u001b[39;00m _n \u001b[38;5;129;01min\u001b[39;00m names])\n\u001b[0;32m-> 2328\u001b[0m \u001b[38;5;28;01mreturn\u001b[39;00m \u001b[38;5;28;43mself\u001b[39;49m\u001b[38;5;241;43m.\u001b[39;49m\u001b[43m_vectorize_call\u001b[49m\u001b[43m(\u001b[49m\u001b[43mfunc\u001b[49m\u001b[38;5;241;43m=\u001b[39;49m\u001b[43mfunc\u001b[49m\u001b[43m,\u001b[49m\u001b[43m \u001b[49m\u001b[43margs\u001b[49m\u001b[38;5;241;43m=\u001b[39;49m\u001b[43mvargs\u001b[49m\u001b[43m)\u001b[49m\n",
      "File \u001b[0;32m~/.pyenv/versions/3.10.3/envs/neural-snake-env/lib/python3.10/site-packages/numpy/lib/function_base.py:2406\u001b[0m, in \u001b[0;36mvectorize._vectorize_call\u001b[0;34m(self, func, args)\u001b[0m\n\u001b[1;32m   2404\u001b[0m     res \u001b[38;5;241m=\u001b[39m func()\n\u001b[1;32m   2405\u001b[0m \u001b[38;5;28;01melse\u001b[39;00m:\n\u001b[0;32m-> 2406\u001b[0m     ufunc, otypes \u001b[38;5;241m=\u001b[39m \u001b[38;5;28;43mself\u001b[39;49m\u001b[38;5;241;43m.\u001b[39;49m\u001b[43m_get_ufunc_and_otypes\u001b[49m\u001b[43m(\u001b[49m\u001b[43mfunc\u001b[49m\u001b[38;5;241;43m=\u001b[39;49m\u001b[43mfunc\u001b[49m\u001b[43m,\u001b[49m\u001b[43m \u001b[49m\u001b[43margs\u001b[49m\u001b[38;5;241;43m=\u001b[39;49m\u001b[43margs\u001b[49m\u001b[43m)\u001b[49m\n\u001b[1;32m   2408\u001b[0m     \u001b[38;5;66;03m# Convert args to object arrays first\u001b[39;00m\n\u001b[1;32m   2409\u001b[0m     inputs \u001b[38;5;241m=\u001b[39m [asanyarray(a, dtype\u001b[38;5;241m=\u001b[39m\u001b[38;5;28mobject\u001b[39m) \u001b[38;5;28;01mfor\u001b[39;00m a \u001b[38;5;129;01min\u001b[39;00m args]\n",
      "File \u001b[0;32m~/.pyenv/versions/3.10.3/envs/neural-snake-env/lib/python3.10/site-packages/numpy/lib/function_base.py:2366\u001b[0m, in \u001b[0;36mvectorize._get_ufunc_and_otypes\u001b[0;34m(self, func, args)\u001b[0m\n\u001b[1;32m   2362\u001b[0m     \u001b[38;5;28;01mraise\u001b[39;00m \u001b[38;5;167;01mValueError\u001b[39;00m(\u001b[38;5;124m'\u001b[39m\u001b[38;5;124mcannot call `vectorize` on size 0 inputs \u001b[39m\u001b[38;5;124m'\u001b[39m\n\u001b[1;32m   2363\u001b[0m                      \u001b[38;5;124m'\u001b[39m\u001b[38;5;124munless `otypes` is set\u001b[39m\u001b[38;5;124m'\u001b[39m)\n\u001b[1;32m   2365\u001b[0m inputs \u001b[38;5;241m=\u001b[39m [arg\u001b[38;5;241m.\u001b[39mflat[\u001b[38;5;241m0\u001b[39m] \u001b[38;5;28;01mfor\u001b[39;00m arg \u001b[38;5;129;01min\u001b[39;00m args]\n\u001b[0;32m-> 2366\u001b[0m outputs \u001b[38;5;241m=\u001b[39m \u001b[43mfunc\u001b[49m\u001b[43m(\u001b[49m\u001b[38;5;241;43m*\u001b[39;49m\u001b[43minputs\u001b[49m\u001b[43m)\u001b[49m\n\u001b[1;32m   2368\u001b[0m \u001b[38;5;66;03m# Performance note: profiling indicates that -- for simple\u001b[39;00m\n\u001b[1;32m   2369\u001b[0m \u001b[38;5;66;03m# functions at least -- this wrapping can almost double the\u001b[39;00m\n\u001b[1;32m   2370\u001b[0m \u001b[38;5;66;03m# execution time.\u001b[39;00m\n\u001b[1;32m   2371\u001b[0m \u001b[38;5;66;03m# Hence we make it optional.\u001b[39;00m\n\u001b[1;32m   2372\u001b[0m \u001b[38;5;28;01mif\u001b[39;00m \u001b[38;5;28mself\u001b[39m\u001b[38;5;241m.\u001b[39mcache:\n",
      "Cell \u001b[0;32mIn [199], line 2\u001b[0m, in \u001b[0;36mconvert2\u001b[0;34m(array)\u001b[0m\n\u001b[1;32m      1\u001b[0m \u001b[38;5;28;01mdef\u001b[39;00m \u001b[38;5;21mconvert2\u001b[39m(array):\n\u001b[0;32m----> 2\u001b[0m     \u001b[38;5;28;01mreturn\u001b[39;00m \u001b[43marray\u001b[49m\u001b[43m[\u001b[49m\u001b[38;5;241;43m1\u001b[39;49m\u001b[43m]\u001b[49m \u001b[38;5;241m*\u001b[39m array[\u001b[38;5;241m0\u001b[39m]\u001b[38;5;241m*\u001b[39marray[\u001b[38;5;241m2\u001b[39m]\n",
      "\u001b[0;31mIndexError\u001b[0m: invalid index to scalar variable."
     ]
    }
   ],
   "source": [
    "np_convert2(gen_snake(100))\n"
   ]
  },
  {
   "cell_type": "code",
   "execution_count": 172,
   "id": "ea77b804",
   "metadata": {},
   "outputs": [
    {
     "data": {
      "text/plain": [
       "array([[2, 8],\n",
       "       [9, 4],\n",
       "       [7, 4],\n",
       "       [3, 0],\n",
       "       [4, 7],\n",
       "       [5, 9],\n",
       "       [0, 3],\n",
       "       [8, 1],\n",
       "       [7, 7],\n",
       "       [9, 9]])"
      ]
     },
     "execution_count": 172,
     "metadata": {},
     "output_type": "execute_result"
    }
   ],
   "source": [
    "get_snake(10)"
   ]
  },
  {
   "cell_type": "code",
   "execution_count": 184,
   "id": "8ad88072",
   "metadata": {},
   "outputs": [
    {
     "name": "stdout",
     "output_type": "stream",
     "text": [
      "22.8 µs ± 1.19 µs per loop (mean ± std. dev. of 7 runs, 10,000 loops each)\n"
     ]
    }
   ],
   "source": [
    "%timeit gen_snake(10)"
   ]
  },
  {
   "cell_type": "code",
   "execution_count": 174,
   "id": "bf04d1d9",
   "metadata": {},
   "outputs": [],
   "source": [
    "example_snake = np.random.randint(0,n, size=(8,2))"
   ]
  },
  {
   "cell_type": "code",
   "execution_count": 120,
   "id": "78c08249",
   "metadata": {},
   "outputs": [
    {
     "data": {
      "text/plain": [
       "array([[3, 4],\n",
       "       [4, 3],\n",
       "       [2, 6],\n",
       "       [3, 5],\n",
       "       [9, 4],\n",
       "       [1, 3],\n",
       "       [4, 1],\n",
       "       [2, 7]])"
      ]
     },
     "execution_count": 120,
     "metadata": {},
     "output_type": "execute_result"
    }
   ],
   "source": [
    "example_snake"
   ]
  },
  {
   "cell_type": "code",
   "execution_count": 177,
   "id": "b621811f",
   "metadata": {},
   "outputs": [
    {
     "data": {
      "text/plain": [
       "array([[1.],\n",
       "       [1.],\n",
       "       [1.],\n",
       "       [1.],\n",
       "       [1.],\n",
       "       [1.],\n",
       "       [1.],\n",
       "       [1.]])"
      ]
     },
     "execution_count": 177,
     "metadata": {},
     "output_type": "execute_result"
    }
   ],
   "source": [
    "np.ones((len(example_snake), 1))"
   ]
  },
  {
   "cell_type": "code",
   "execution_count": 121,
   "id": "0a31f7cc",
   "metadata": {},
   "outputs": [],
   "source": [
    "import random"
   ]
  },
  {
   "cell_type": "code",
   "execution_count": 126,
   "id": "e07fbf93",
   "metadata": {},
   "outputs": [
    {
     "data": {
      "text/plain": [
       "1"
      ]
     },
     "execution_count": 126,
     "metadata": {},
     "output_type": "execute_result"
    }
   ],
   "source": [
    "random.randrange(5)"
   ]
  },
  {
   "cell_type": "code",
   "execution_count": 175,
   "id": "c428e6c7",
   "metadata": {},
   "outputs": [
    {
     "ename": "ValueError",
     "evalue": "all the input array dimensions for the concatenation axis must match exactly, but along dimension 1, the array at index 0 has size 2 and the array at index 1 has size 1",
     "output_type": "error",
     "traceback": [
      "\u001b[0;31m---------------------------------------------------------------------------\u001b[0m",
      "\u001b[0;31mValueError\u001b[0m                                Traceback (most recent call last)",
      "Cell \u001b[0;32mIn [175], line 1\u001b[0m\n\u001b[0;32m----> 1\u001b[0m \u001b[43mnp\u001b[49m\u001b[38;5;241;43m.\u001b[39;49m\u001b[43mconcatenate\u001b[49m\u001b[43m(\u001b[49m\u001b[43m(\u001b[49m\u001b[43mexample_snake\u001b[49m\u001b[43m,\u001b[49m\u001b[43m \u001b[49m\u001b[43mnp\u001b[49m\u001b[38;5;241;43m.\u001b[39;49m\u001b[43mones\u001b[49m\u001b[43m(\u001b[49m\u001b[43m(\u001b[49m\u001b[38;5;28;43mlen\u001b[39;49m\u001b[43m(\u001b[49m\u001b[43mexample_snake\u001b[49m\u001b[43m)\u001b[49m\u001b[43m,\u001b[49m\u001b[43m \u001b[49m\u001b[38;5;241;43m1\u001b[39;49m\u001b[43m)\u001b[49m\u001b[43m)\u001b[49m\u001b[43m)\u001b[49m\u001b[43m)\u001b[49m\n",
      "File \u001b[0;32m<__array_function__ internals>:180\u001b[0m, in \u001b[0;36mconcatenate\u001b[0;34m(*args, **kwargs)\u001b[0m\n",
      "\u001b[0;31mValueError\u001b[0m: all the input array dimensions for the concatenation axis must match exactly, but along dimension 1, the array at index 0 has size 2 and the array at index 1 has size 1"
     ]
    }
   ],
   "source": [
    "np.concatenate((example_snake, np.ones((len(example_snake), 1))))"
   ]
  },
  {
   "cell_type": "code",
   "execution_count": 117,
   "id": "74321c9d",
   "metadata": {},
   "outputs": [
    {
     "data": {
      "text/plain": [
       "array([[1.],\n",
       "       [1.],\n",
       "       [1.],\n",
       "       [1.],\n",
       "       [1.],\n",
       "       [1.],\n",
       "       [1.],\n",
       "       [1.]])"
      ]
     },
     "execution_count": 117,
     "metadata": {},
     "output_type": "execute_result"
    }
   ],
   "source": []
  },
  {
   "cell_type": "code",
   "execution_count": 106,
   "id": "798752c4",
   "metadata": {},
   "outputs": [
    {
     "ename": "TypeError",
     "evalue": "convert() missing 1 required positional argument: 'n'",
     "output_type": "error",
     "traceback": [
      "\u001b[0;31m---------------------------------------------------------------------------\u001b[0m",
      "\u001b[0;31mTypeError\u001b[0m                                 Traceback (most recent call last)",
      "Cell \u001b[0;32mIn [106], line 1\u001b[0m\n\u001b[0;32m----> 1\u001b[0m \u001b[43mconvert\u001b[49m\u001b[43m(\u001b[49m\u001b[43mexample_snake\u001b[49m\u001b[43m,\u001b[49m\u001b[43m \u001b[49m\u001b[38;5;241;43m100\u001b[39;49m\u001b[43m)\u001b[49m\n",
      "\u001b[0;31mTypeError\u001b[0m: convert() missing 1 required positional argument: 'n'"
     ]
    }
   ],
   "source": [
    "convert(example_snake, 100)"
   ]
  },
  {
   "cell_type": "markdown",
   "id": "f04e6643",
   "metadata": {},
   "source": [
    "## bullshit tests"
   ]
  },
  {
   "cell_type": "code",
   "execution_count": 130,
   "id": "0be063cc",
   "metadata": {},
   "outputs": [],
   "source": [
    "n=100"
   ]
  },
  {
   "cell_type": "code",
   "execution_count": 132,
   "id": "357e7b82",
   "metadata": {},
   "outputs": [
    {
     "name": "stdout",
     "output_type": "stream",
     "text": [
      "56.6 µs ± 862 ns per loop (mean ± std. dev. of 7 runs, 10,000 loops each)\n"
     ]
    }
   ],
   "source": [
    "%timeit np.random.rand(n,n)"
   ]
  },
  {
   "cell_type": "code",
   "execution_count": 137,
   "id": "3cad0d2a",
   "metadata": {},
   "outputs": [
    {
     "data": {
      "text/plain": [
       "78"
      ]
     },
     "execution_count": 137,
     "metadata": {},
     "output_type": "execute_result"
    }
   ],
   "source": [
    "random.randint(0,100)"
   ]
  },
  {
   "cell_type": "code",
   "execution_count": null,
   "id": "ad12e6e9",
   "metadata": {},
   "outputs": [],
   "source": [
    "n = 1000"
   ]
  },
  {
   "cell_type": "code",
   "execution_count": 144,
   "id": "4dea4711",
   "metadata": {},
   "outputs": [
    {
     "name": "stdout",
     "output_type": "stream",
     "text": [
      "13.9 µs ± 366 ns per loop (mean ± std. dev. of 7 runs, 100,000 loops each)\n"
     ]
    }
   ],
   "source": [
    "%timeit np.random.randint(0,n, size=(n,2))\n"
   ]
  },
  {
   "cell_type": "code",
   "execution_count": 181,
   "id": "66014c2a",
   "metadata": {},
   "outputs": [
    {
     "name": "stdout",
     "output_type": "stream",
     "text": [
      "3.03 µs ± 174 ns per loop (mean ± std. dev. of 7 runs, 100,000 loops each)\n"
     ]
    }
   ],
   "source": [
    "%timeit np.concatenate((tst, tst_ones), axis=1)"
   ]
  },
  {
   "cell_type": "code",
   "execution_count": null,
   "id": "85ae33e7",
   "metadata": {},
   "outputs": [],
   "source": []
  },
  {
   "cell_type": "code",
   "execution_count": null,
   "id": "d1d1e7e9",
   "metadata": {},
   "outputs": [],
   "source": []
  },
  {
   "cell_type": "code",
   "execution_count": 178,
   "id": "8224dd1c",
   "metadata": {},
   "outputs": [],
   "source": [
    "tst = np.random.randint(0,n, size=(n,2))"
   ]
  },
  {
   "cell_type": "code",
   "execution_count": 179,
   "id": "4aa52346",
   "metadata": {},
   "outputs": [],
   "source": [
    "tst_ones = np.ones((len(tst),1))"
   ]
  },
  {
   "cell_type": "code",
   "execution_count": 180,
   "id": "bf53decc",
   "metadata": {},
   "outputs": [
    {
     "ename": "TypeError",
     "evalue": "only integer scalar arrays can be converted to a scalar index",
     "output_type": "error",
     "traceback": [
      "\u001b[0;31m---------------------------------------------------------------------------\u001b[0m",
      "\u001b[0;31mTypeError\u001b[0m                                 Traceback (most recent call last)",
      "Cell \u001b[0;32mIn [180], line 1\u001b[0m\n\u001b[0;32m----> 1\u001b[0m \u001b[38;5;28;43mlist\u001b[39;49m\u001b[43m(\u001b[49m\u001b[38;5;28;43mmap\u001b[39;49m\u001b[43m(\u001b[49m\u001b[43mcustom_concat\u001b[49m\u001b[43m,\u001b[49m\u001b[43m \u001b[49m\u001b[43mtst\u001b[49m\u001b[43m)\u001b[49m\u001b[43m)\u001b[49m\n",
      "Cell \u001b[0;32mIn [146], line 2\u001b[0m, in \u001b[0;36mcustom_concat\u001b[0;34m(arr)\u001b[0m\n\u001b[1;32m      1\u001b[0m \u001b[38;5;28;01mdef\u001b[39;00m \u001b[38;5;21mcustom_concat\u001b[39m(arr):\n\u001b[0;32m----> 2\u001b[0m     \u001b[38;5;28;01mreturn\u001b[39;00m \u001b[43mnp\u001b[49m\u001b[38;5;241;43m.\u001b[39;49m\u001b[43mconcatenate\u001b[49m\u001b[43m(\u001b[49m\u001b[43marr\u001b[49m\u001b[43m,\u001b[49m\u001b[43m \u001b[49m\u001b[43mnp\u001b[49m\u001b[38;5;241;43m.\u001b[39;49m\u001b[43marray\u001b[49m\u001b[43m(\u001b[49m\u001b[43m[\u001b[49m\u001b[38;5;241;43m1\u001b[39;49m\u001b[43m]\u001b[49m\u001b[43m)\u001b[49m\u001b[43m)\u001b[49m\n",
      "File \u001b[0;32m<__array_function__ internals>:180\u001b[0m, in \u001b[0;36mconcatenate\u001b[0;34m(*args, **kwargs)\u001b[0m\n",
      "\u001b[0;31mTypeError\u001b[0m: only integer scalar arrays can be converted to a scalar index"
     ]
    }
   ],
   "source": [
    "list(map(custom_concat, tst))"
   ]
  },
  {
   "cell_type": "code",
   "execution_count": 146,
   "id": "4b229f33",
   "metadata": {},
   "outputs": [],
   "source": [
    "def custom_concat(arr):\n",
    "    return np.concatenate(arr, np.array([1]))"
   ]
  },
  {
   "cell_type": "code",
   "execution_count": null,
   "id": "8392219f",
   "metadata": {},
   "outputs": [],
   "source": [
    "arr1 = np.concatenate((arr1, arr2))"
   ]
  },
  {
   "cell_type": "code",
   "execution_count": 232,
   "id": "aa1bfd80",
   "metadata": {},
   "outputs": [
    {
     "data": {
      "text/plain": [
       "100"
      ]
     },
     "execution_count": 232,
     "metadata": {},
     "output_type": "execute_result"
    }
   ],
   "source": [
    "n"
   ]
  },
  {
   "cell_type": "code",
   "execution_count": 231,
   "id": "4c40a7d8",
   "metadata": {},
   "outputs": [
    {
     "name": "stdout",
     "output_type": "stream",
     "text": [
      "179 µs ± 4.98 µs per loop (mean ± std. dev. of 7 runs, 1,000 loops each)\n"
     ]
    }
   ],
   "source": [
    "%timeit [[random.randint(0,n), random.randint(0,n), n] for i in range(n)]"
   ]
  },
  {
   "cell_type": "code",
   "execution_count": null,
   "id": "733acd03",
   "metadata": {},
   "outputs": [],
   "source": [
    "def concat(args):\n",
    "    return ['!', *args]\n",
    "arr_ = [['a', 'b'], ['x', 'y']]\n",
    "n = map(concat, arr_)"
   ]
  },
  {
   "cell_type": "code",
   "execution_count": null,
   "id": "b4ca2837",
   "metadata": {},
   "outputs": [],
   "source": []
  },
  {
   "cell_type": "markdown",
   "id": "d2c25ae0",
   "metadata": {},
   "source": [
    "# Integer matrix"
   ]
  },
  {
   "cell_type": "code",
   "execution_count": 48,
   "id": "a3e74cd7",
   "metadata": {},
   "outputs": [],
   "source": [
    "matrix = np.array([[1,2,3,4],\n",
    "          [5,6,7,8],\n",
    "          [9,10,11,12],\n",
    "          [13,14,15,16]])"
   ]
  },
  {
   "cell_type": "code",
   "execution_count": 49,
   "id": "dc886e42",
   "metadata": {},
   "outputs": [
    {
     "data": {
      "text/plain": [
       "7"
      ]
     },
     "execution_count": 49,
     "metadata": {},
     "output_type": "execute_result"
    }
   ],
   "source": [
    "matrix[x][y]"
   ]
  },
  {
   "cell_type": "code",
   "execution_count": 50,
   "id": "e997b185",
   "metadata": {},
   "outputs": [
    {
     "data": {
      "text/plain": [
       "7"
      ]
     },
     "execution_count": 50,
     "metadata": {},
     "output_type": "execute_result"
    }
   ],
   "source": [
    "matrix.flatten()[convert(x,y)]"
   ]
  },
  {
   "cell_type": "code",
   "execution_count": 21,
   "id": "28308f43",
   "metadata": {},
   "outputs": [
    {
     "data": {
      "text/plain": [
       "10"
      ]
     },
     "execution_count": 21,
     "metadata": {},
     "output_type": "execute_result"
    }
   ],
   "source": [
    "matrix.flatten()[1 +(len(matrix[0])*y)]"
   ]
  },
  {
   "cell_type": "code",
   "execution_count": 5,
   "id": "42f332fa",
   "metadata": {},
   "outputs": [],
   "source": [
    "width = len(matrix[0])"
   ]
  },
  {
   "cell_type": "code",
   "execution_count": 15,
   "id": "d5b26cec",
   "metadata": {},
   "outputs": [
    {
     "ename": "IndexError",
     "evalue": "index 11 is out of bounds for axis 0 with size 3",
     "output_type": "error",
     "traceback": [
      "\u001b[0;31m---------------------------------------------------------------------------\u001b[0m",
      "\u001b[0;31mIndexError\u001b[0m                                Traceback (most recent call last)",
      "Cell \u001b[0;32mIn [15], line 1\u001b[0m\n\u001b[0;32m----> 1\u001b[0m \u001b[43mmatrix\u001b[49m\u001b[43m[\u001b[49m\u001b[38;5;241;43m1\u001b[39;49m\u001b[43m \u001b[49m\u001b[38;5;241;43m+\u001b[39;49m\u001b[43m(\u001b[49m\u001b[38;5;28;43mlen\u001b[39;49m\u001b[43m(\u001b[49m\u001b[43mmatrix\u001b[49m\u001b[43m[\u001b[49m\u001b[38;5;241;43m0\u001b[39;49m\u001b[43m]\u001b[49m\u001b[43m)\u001b[49m\u001b[38;5;241;43m*\u001b[39;49m\u001b[43my\u001b[49m\u001b[43m)\u001b[49m\u001b[43m]\u001b[49m\n",
      "\u001b[0;31mIndexError\u001b[0m: index 11 is out of bounds for axis 0 with size 3"
     ]
    }
   ],
   "source": [
    "matrix"
   ]
  },
  {
   "cell_type": "markdown",
   "id": "c5f9f075",
   "metadata": {},
   "source": [
    "# Speed test"
   ]
  },
  {
   "cell_type": "code",
   "execution_count": 97,
   "id": "6bb95da2",
   "metadata": {},
   "outputs": [],
   "source": [
    "#a = np.random.rand(1200, 2000, 100)\n"
   ]
  },
  {
   "cell_type": "code",
   "execution_count": 98,
   "id": "dacb63d2",
   "metadata": {},
   "outputs": [],
   "source": [
    "def f(x,y, n):\n",
    "    return y + n*x\n",
    "\n",
    "\n",
    "vf = np.vectorize(f)\n",
    "\n",
    "\n",
    "def array_for(x,y, n):\n",
    "    return np.array([f(xi) for xi in x])\n",
    "\n",
    "\n",
    "def array_map(x,y, n):\n",
    "    return np.array(list(map(f, x,y, n)))\n",
    "\n",
    "\n",
    "def fromiter(x,y, n):\n",
    "    return np.fromiter((f(xi) for xi in x), x.dtype)\n",
    "\n",
    "\n",
    "def vectorize(x,y, n):\n",
    "    return np.vectorize(f)(x,y, n)\n",
    "\n",
    "\n",
    "def vectorize_without_init(x,y, n):\n",
    "    return vf(x,y, n)"
   ]
  },
  {
   "cell_type": "code",
   "execution_count": 96,
   "id": "8d5d747d",
   "metadata": {},
   "outputs": [
    {
     "name": "stdout",
     "output_type": "stream",
     "text": [
      "929 ns ± 29.8 ns per loop (mean ± std. dev. of 7 runs, 1,000,000 loops each)\n",
      "3.95 µs ± 103 ns per loop (mean ± std. dev. of 7 runs, 100,000 loops each)\n",
      "13 µs ± 145 ns per loop (mean ± std. dev. of 7 runs, 100,000 loops each)\n",
      "25.8 µs ± 740 ns per loop (mean ± std. dev. of 7 runs, 10,000 loops each)\n",
      "42.8 µs ± 527 ns per loop (mean ± std. dev. of 7 runs, 10,000 loops each)\n",
      "69.3 µs ± 2.17 µs per loop (mean ± std. dev. of 7 runs, 10,000 loops each)\n",
      "111 µs ± 6.14 µs per loop (mean ± std. dev. of 7 runs, 10,000 loops each)\n",
      "590 µs ± 48 µs per loop (mean ± std. dev. of 7 runs, 1,000 loops each)\n",
      "988 µs ± 39.2 µs per loop (mean ± std. dev. of 7 runs, 1,000 loops each)\n",
      "1.43 ms ± 68.5 µs per loop (mean ± std. dev. of 7 runs, 1,000 loops each)\n"
     ]
    }
   ],
   "source": [
    "for n in range(10, 1000, 100):\n",
    "    matrix_rand = np.random.rand(n,n)\n",
    "    %timeit matrix_rand.flatten()[convert(x,y,n)]"
   ]
  },
  {
   "cell_type": "code",
   "execution_count": 99,
   "id": "0e572592",
   "metadata": {},
   "outputs": [
    {
     "ename": "TypeError",
     "evalue": "array_for() takes 1 positional argument but 3 were given",
     "output_type": "error",
     "traceback": [
      "\u001b[0;31m---------------------------------------------------------------------------\u001b[0m",
      "\u001b[0;31mTypeError\u001b[0m                                 Traceback (most recent call last)",
      "Cell \u001b[0;32mIn [99], line 3\u001b[0m\n\u001b[1;32m      1\u001b[0m \u001b[38;5;28;01mfor\u001b[39;00m n \u001b[38;5;129;01min\u001b[39;00m \u001b[38;5;28mrange\u001b[39m(\u001b[38;5;241m10\u001b[39m, \u001b[38;5;241m1000\u001b[39m, \u001b[38;5;241m100\u001b[39m):\n\u001b[1;32m      2\u001b[0m     matrix_rand \u001b[38;5;241m=\u001b[39m np\u001b[38;5;241m.\u001b[39mrandom\u001b[38;5;241m.\u001b[39mrand(n,n)\n\u001b[0;32m----> 3\u001b[0m     \u001b[43mget_ipython\u001b[49m\u001b[43m(\u001b[49m\u001b[43m)\u001b[49m\u001b[38;5;241;43m.\u001b[39;49m\u001b[43mrun_line_magic\u001b[49m\u001b[43m(\u001b[49m\u001b[38;5;124;43m'\u001b[39;49m\u001b[38;5;124;43mtimeit\u001b[39;49m\u001b[38;5;124;43m'\u001b[39;49m\u001b[43m,\u001b[49m\u001b[43m \u001b[49m\u001b[38;5;124;43m'\u001b[39;49m\u001b[38;5;124;43mmatrix_rand.flatten()[array_for(x,y,n)]\u001b[39;49m\u001b[38;5;124;43m'\u001b[39;49m\u001b[43m)\u001b[49m\n",
      "File \u001b[0;32m~/.pyenv/versions/3.10.3/envs/neural-snake-env/lib/python3.10/site-packages/IPython/core/interactiveshell.py:2364\u001b[0m, in \u001b[0;36mInteractiveShell.run_line_magic\u001b[0;34m(self, magic_name, line, _stack_depth)\u001b[0m\n\u001b[1;32m   2362\u001b[0m     kwargs[\u001b[38;5;124m'\u001b[39m\u001b[38;5;124mlocal_ns\u001b[39m\u001b[38;5;124m'\u001b[39m] \u001b[38;5;241m=\u001b[39m \u001b[38;5;28mself\u001b[39m\u001b[38;5;241m.\u001b[39mget_local_scope(stack_depth)\n\u001b[1;32m   2363\u001b[0m \u001b[38;5;28;01mwith\u001b[39;00m \u001b[38;5;28mself\u001b[39m\u001b[38;5;241m.\u001b[39mbuiltin_trap:\n\u001b[0;32m-> 2364\u001b[0m     result \u001b[38;5;241m=\u001b[39m \u001b[43mfn\u001b[49m\u001b[43m(\u001b[49m\u001b[38;5;241;43m*\u001b[39;49m\u001b[43margs\u001b[49m\u001b[43m,\u001b[49m\u001b[43m \u001b[49m\u001b[38;5;241;43m*\u001b[39;49m\u001b[38;5;241;43m*\u001b[39;49m\u001b[43mkwargs\u001b[49m\u001b[43m)\u001b[49m\n\u001b[1;32m   2365\u001b[0m \u001b[38;5;28;01mreturn\u001b[39;00m result\n",
      "File \u001b[0;32m~/.pyenv/versions/3.10.3/envs/neural-snake-env/lib/python3.10/site-packages/IPython/core/magics/execution.py:1162\u001b[0m, in \u001b[0;36mExecutionMagics.timeit\u001b[0;34m(self, line, cell, local_ns)\u001b[0m\n\u001b[1;32m   1160\u001b[0m \u001b[38;5;28;01mfor\u001b[39;00m index \u001b[38;5;129;01min\u001b[39;00m \u001b[38;5;28mrange\u001b[39m(\u001b[38;5;241m0\u001b[39m, \u001b[38;5;241m10\u001b[39m):\n\u001b[1;32m   1161\u001b[0m     number \u001b[38;5;241m=\u001b[39m \u001b[38;5;241m10\u001b[39m \u001b[38;5;241m*\u001b[39m\u001b[38;5;241m*\u001b[39m index\n\u001b[0;32m-> 1162\u001b[0m     time_number \u001b[38;5;241m=\u001b[39m \u001b[43mtimer\u001b[49m\u001b[38;5;241;43m.\u001b[39;49m\u001b[43mtimeit\u001b[49m\u001b[43m(\u001b[49m\u001b[43mnumber\u001b[49m\u001b[43m)\u001b[49m\n\u001b[1;32m   1163\u001b[0m     \u001b[38;5;28;01mif\u001b[39;00m time_number \u001b[38;5;241m>\u001b[39m\u001b[38;5;241m=\u001b[39m \u001b[38;5;241m0.2\u001b[39m:\n\u001b[1;32m   1164\u001b[0m         \u001b[38;5;28;01mbreak\u001b[39;00m\n",
      "File \u001b[0;32m~/.pyenv/versions/3.10.3/envs/neural-snake-env/lib/python3.10/site-packages/IPython/core/magics/execution.py:156\u001b[0m, in \u001b[0;36mTimer.timeit\u001b[0;34m(self, number)\u001b[0m\n\u001b[1;32m    154\u001b[0m gc\u001b[38;5;241m.\u001b[39mdisable()\n\u001b[1;32m    155\u001b[0m \u001b[38;5;28;01mtry\u001b[39;00m:\n\u001b[0;32m--> 156\u001b[0m     timing \u001b[38;5;241m=\u001b[39m \u001b[38;5;28;43mself\u001b[39;49m\u001b[38;5;241;43m.\u001b[39;49m\u001b[43minner\u001b[49m\u001b[43m(\u001b[49m\u001b[43mit\u001b[49m\u001b[43m,\u001b[49m\u001b[43m \u001b[49m\u001b[38;5;28;43mself\u001b[39;49m\u001b[38;5;241;43m.\u001b[39;49m\u001b[43mtimer\u001b[49m\u001b[43m)\u001b[49m\n\u001b[1;32m    157\u001b[0m \u001b[38;5;28;01mfinally\u001b[39;00m:\n\u001b[1;32m    158\u001b[0m     \u001b[38;5;28;01mif\u001b[39;00m gcold:\n",
      "File \u001b[0;32m<magic-timeit>:1\u001b[0m, in \u001b[0;36minner\u001b[0;34m(_it, _timer)\u001b[0m\n",
      "\u001b[0;31mTypeError\u001b[0m: array_for() takes 1 positional argument but 3 were given"
     ]
    }
   ],
   "source": [
    "for n in range(10, 1000, 100):\n",
    "    matrix_rand = np.random.rand(n,n)\n",
    "    %timeit matrix_rand.flatten()[array_for(x,y,n)]"
   ]
  },
  {
   "cell_type": "code",
   "execution_count": null,
   "id": "93fc580e",
   "metadata": {},
   "outputs": [],
   "source": [
    "for n in range(10, 1000, 100):\n",
    "    matrix_rand = np.random.rand(n,n)\n",
    "    %timeit matrix_rand.flatten()[convert(x,y,n)]"
   ]
  },
  {
   "cell_type": "code",
   "execution_count": null,
   "id": "ec1abe78",
   "metadata": {},
   "outputs": [],
   "source": [
    "for n in range(10, 1000, 100):\n",
    "    matrix_rand = np.random.rand(n,n)\n",
    "    %timeit matrix_rand.flatten()[convert(x,y,n)]"
   ]
  },
  {
   "cell_type": "code",
   "execution_count": null,
   "id": "b82768b0",
   "metadata": {},
   "outputs": [],
   "source": [
    "for n in range(10, 1000, 100):\n",
    "    matrix_rand = np.random.rand(n,n)\n",
    "    %timeit matrix_rand.flatten()[convert(x,y,n)]"
   ]
  },
  {
   "cell_type": "code",
   "execution_count": 78,
   "id": "dae42a48",
   "metadata": {},
   "outputs": [
    {
     "name": "stdout",
     "output_type": "stream",
     "text": [
      "237 ns ± 6.43 ns per loop (mean ± std. dev. of 7 runs, 1,000,000 loops each)\n"
     ]
    }
   ],
   "source": [
    "%timeit a[1,:,:]  # time: 97.3 µs\n"
   ]
  },
  {
   "cell_type": "code",
   "execution_count": 79,
   "id": "661f2e2d",
   "metadata": {},
   "outputs": [
    {
     "name": "stdout",
     "output_type": "stream",
     "text": [
      "254 ns ± 5.61 ns per loop (mean ± std. dev. of 7 runs, 1,000,000 loops each)\n"
     ]
    }
   ],
   "source": [
    "%timeit a[:,1,:]  # time: 345 µs\n"
   ]
  },
  {
   "cell_type": "code",
   "execution_count": 80,
   "id": "611ed083",
   "metadata": {},
   "outputs": [
    {
     "name": "stdout",
     "output_type": "stream",
     "text": [
      "248 ns ± 3.52 ns per loop (mean ± std. dev. of 7 runs, 1,000,000 loops each)\n"
     ]
    }
   ],
   "source": [
    "%timeit a[:,:,1]  # time: 16 ms"
   ]
  },
  {
   "cell_type": "code",
   "execution_count": 81,
   "id": "eb79dff1",
   "metadata": {},
   "outputs": [
    {
     "data": {
      "text/plain": [
       "array([[0.26212442, 0.15011176, 0.52657371, ..., 0.29280715, 0.42830328,\n",
       "        0.12231298],\n",
       "       [0.34900099, 0.52680758, 0.05972591, ..., 0.03806386, 0.89517175,\n",
       "        0.98077059],\n",
       "       [0.57875201, 0.7745493 , 0.25996931, ..., 0.94483543, 0.17901249,\n",
       "        0.14519265],\n",
       "       ...,\n",
       "       [0.72743372, 0.22862096, 0.44004316, ..., 0.70538811, 0.37644736,\n",
       "        0.77027552],\n",
       "       [0.0621352 , 0.57296702, 0.94315666, ..., 0.48738876, 0.57142966,\n",
       "        0.05571956],\n",
       "       [0.85561533, 0.8034415 , 0.59960654, ..., 0.31744201, 0.31354117,\n",
       "        0.40217248]])"
      ]
     },
     "execution_count": 81,
     "metadata": {},
     "output_type": "execute_result"
    }
   ],
   "source": [
    "a[1,:,:]"
   ]
  },
  {
   "cell_type": "code",
   "execution_count": 82,
   "id": "59f2a816",
   "metadata": {},
   "outputs": [
    {
     "data": {
      "text/plain": [
       "array([[0.95866636, 0.34233289, 0.01067235, ..., 0.7560756 , 0.81460423,\n",
       "        0.8135531 ],\n",
       "       [0.34900099, 0.52680758, 0.05972591, ..., 0.03806386, 0.89517175,\n",
       "        0.98077059],\n",
       "       [0.95214474, 0.54259491, 0.94831311, ..., 0.44546076, 0.59754213,\n",
       "        0.14922537],\n",
       "       ...,\n",
       "       [0.29879997, 0.42626949, 0.49674824, ..., 0.59623154, 0.14671894,\n",
       "        0.58520741],\n",
       "       [0.27286838, 0.44782707, 0.40845093, ..., 0.97532465, 0.80767391,\n",
       "        0.21694409],\n",
       "       [0.88570287, 0.27788029, 0.10010882, ..., 0.9283349 , 0.50229699,\n",
       "        0.60462787]])"
      ]
     },
     "execution_count": 82,
     "metadata": {},
     "output_type": "execute_result"
    }
   ],
   "source": [
    "a[:,1,:] "
   ]
  },
  {
   "cell_type": "code",
   "execution_count": 83,
   "id": "e852d410",
   "metadata": {},
   "outputs": [
    {
     "data": {
      "text/plain": [
       "array([[0.63501602, 0.34233289, 0.50568322, ..., 0.17215968, 0.65222653,\n",
       "        0.02475261],\n",
       "       [0.15011176, 0.52680758, 0.7745493 , ..., 0.22862096, 0.57296702,\n",
       "        0.8034415 ],\n",
       "       [0.74673859, 0.54259491, 0.20510842, ..., 0.78034251, 0.06609685,\n",
       "        0.2879946 ],\n",
       "       ...,\n",
       "       [0.31325983, 0.42626949, 0.5976787 , ..., 0.47831928, 0.20593764,\n",
       "        0.6811222 ],\n",
       "       [0.53867532, 0.44782707, 0.26776052, ..., 0.2582756 , 0.72906028,\n",
       "        0.7673763 ],\n",
       "       [0.38718958, 0.27788029, 0.61079593, ..., 0.17432599, 0.83078146,\n",
       "        0.81622129]])"
      ]
     },
     "execution_count": 83,
     "metadata": {},
     "output_type": "execute_result"
    }
   ],
   "source": [
    "a[:,:,1] "
   ]
  },
  {
   "cell_type": "code",
   "execution_count": 90,
   "id": "b1c47e56",
   "metadata": {},
   "outputs": [],
   "source": [
    "n_range=[2 ** k for k in range(5)]"
   ]
  },
  {
   "cell_type": "code",
   "execution_count": 91,
   "id": "ec9740e9",
   "metadata": {},
   "outputs": [
    {
     "data": {
      "text/plain": [
       "[1, 2, 4, 8, 16]"
      ]
     },
     "execution_count": 91,
     "metadata": {},
     "output_type": "execute_result"
    }
   ],
   "source": [
    "[2 ** k for k in range(5)]"
   ]
  },
  {
   "cell_type": "code",
   "execution_count": 89,
   "id": "8a85e2e8",
   "metadata": {},
   "outputs": [
    {
     "data": {
      "application/vnd.jupyter.widget-view+json": {
       "model_id": "9ff391753dee436b88fbcf638518d08d",
       "version_major": 2,
       "version_minor": 0
      },
      "text/plain": [
       "Output()"
      ]
     },
     "metadata": {},
     "output_type": "display_data"
    },
    {
     "data": {
      "text/html": [
       "<pre style=\"white-space:pre;overflow-x:auto;line-height:normal;font-family:Menlo,'DejaVu Sans Mono',consolas,'Courier New',monospace\"></pre>\n"
      ],
      "text/plain": []
     },
     "metadata": {},
     "output_type": "display_data"
    },
    {
     "data": {
      "text/html": [
       "<pre style=\"white-space:pre;overflow-x:auto;line-height:normal;font-family:Menlo,'DejaVu Sans Mono',consolas,'Courier New',monospace\">\n",
       "</pre>\n"
      ],
      "text/plain": [
       "\n"
      ]
     },
     "metadata": {},
     "output_type": "display_data"
    }
   ],
   "source": [
    "import numpy as np\n",
    "import perfplot\n",
    "import math\n",
    "\n",
    "\n",
    "\n",
    "\n",
    "\n",
    "b = perfplot.bench(\n",
    "    setup=np.random.rand,\n",
    "    n_range=[2 ** k for k in range(5)],\n",
    "    kernels=[\n",
    "        f,\n",
    "        array_for,\n",
    "        array_map,\n",
    "        fromiter,\n",
    "        vectorize,\n",
    "        vectorize_without_init,\n",
    "    ],\n",
    "    xlabel=\"len(x)\",\n",
    ")"
   ]
  },
  {
   "cell_type": "code",
   "execution_count": null,
   "id": "7c4990dc",
   "metadata": {},
   "outputs": [],
   "source": []
  }
 ],
 "metadata": {
  "kernelspec": {
   "display_name": "Python 3 (ipykernel)",
   "language": "python",
   "name": "python3"
  },
  "language_info": {
   "codemirror_mode": {
    "name": "ipython",
    "version": 3
   },
   "file_extension": ".py",
   "mimetype": "text/x-python",
   "name": "python",
   "nbconvert_exporter": "python",
   "pygments_lexer": "ipython3",
   "version": "3.10.3"
  }
 },
 "nbformat": 4,
 "nbformat_minor": 5
}
